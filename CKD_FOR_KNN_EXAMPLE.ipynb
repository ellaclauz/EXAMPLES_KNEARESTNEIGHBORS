{
  "nbformat": 4,
  "nbformat_minor": 0,
  "metadata": {
    "colab": {
      "provenance": [],
      "authorship_tag": "ABX9TyMTDxiklBxr7jBoTEnedwho",
      "include_colab_link": true
    },
    "kernelspec": {
      "name": "python3",
      "display_name": "Python 3"
    },
    "language_info": {
      "name": "python"
    }
  },
  "cells": [
    {
      "cell_type": "markdown",
      "metadata": {
        "id": "view-in-github",
        "colab_type": "text"
      },
      "source": [
        "<a href=\"https://colab.research.google.com/github/ellaclauz/EXAMPLES_KNEARESTNEIGHBORS/blob/main/CKD_FOR_KNN_EXAMPLE.ipynb\" target=\"_parent\"><img src=\"https://colab.research.google.com/assets/colab-badge.svg\" alt=\"Open In Colab\"/></a>"
      ]
    },
    {
      "cell_type": "markdown",
      "source": [
        "# Nearest Neighbors\n",
        "\n",
        "We’re going to work with a data set that was collected to help doctors diagnose chronic kidney disease (CKD). Each row in the data set represents a single patient who was treated in the past and whose diagnosis is known. For each patient, we have a bunch of measurements from a blood test. We’d like to find which measurements are most useful for diagnosing CKD, and develop a way to classify future patients as “has CKD” or “doesn’t have CKD” based on their blood test results."
      ],
      "metadata": {
        "id": "l5Z_g-oq1KFq"
      }
    },
    {
      "cell_type": "code",
      "execution_count": 1,
      "metadata": {
        "id": "k1bduMEqzRsI"
      },
      "outputs": [],
      "source": [
        "import pandas as pd\n",
        "import numpy as np\n",
        "import seaborn as sn\n",
        "import matplotlib.pyplot as plt\n",
        "from sklearn.model_selection import train_test_split\n",
        "from sklearn.neighbors import KNeighborsClassifier"
      ]
    },
    {
      "cell_type": "code",
      "source": [
        "from google.colab import files\n",
        "uploaded = files.upload()"
      ],
      "metadata": {
        "colab": {
          "base_uri": "https://localhost:8080/",
          "height": 73
        },
        "id": "P1DBzDeO2gg9",
        "outputId": "9c3fe16b-071d-44cc-9f26-394935958b62"
      },
      "execution_count": 3,
      "outputs": [
        {
          "output_type": "display_data",
          "data": {
            "text/plain": [
              "<IPython.core.display.HTML object>"
            ],
            "text/html": [
              "\n",
              "     <input type=\"file\" id=\"files-bd01f5de-3bb1-4b7b-9dc9-d7ec52bb9dcf\" name=\"files[]\" multiple disabled\n",
              "        style=\"border:none\" />\n",
              "     <output id=\"result-bd01f5de-3bb1-4b7b-9dc9-d7ec52bb9dcf\">\n",
              "      Upload widget is only available when the cell has been executed in the\n",
              "      current browser session. Please rerun this cell to enable.\n",
              "      </output>\n",
              "      <script>// Copyright 2017 Google LLC\n",
              "//\n",
              "// Licensed under the Apache License, Version 2.0 (the \"License\");\n",
              "// you may not use this file except in compliance with the License.\n",
              "// You may obtain a copy of the License at\n",
              "//\n",
              "//      http://www.apache.org/licenses/LICENSE-2.0\n",
              "//\n",
              "// Unless required by applicable law or agreed to in writing, software\n",
              "// distributed under the License is distributed on an \"AS IS\" BASIS,\n",
              "// WITHOUT WARRANTIES OR CONDITIONS OF ANY KIND, either express or implied.\n",
              "// See the License for the specific language governing permissions and\n",
              "// limitations under the License.\n",
              "\n",
              "/**\n",
              " * @fileoverview Helpers for google.colab Python module.\n",
              " */\n",
              "(function(scope) {\n",
              "function span(text, styleAttributes = {}) {\n",
              "  const element = document.createElement('span');\n",
              "  element.textContent = text;\n",
              "  for (const key of Object.keys(styleAttributes)) {\n",
              "    element.style[key] = styleAttributes[key];\n",
              "  }\n",
              "  return element;\n",
              "}\n",
              "\n",
              "// Max number of bytes which will be uploaded at a time.\n",
              "const MAX_PAYLOAD_SIZE = 100 * 1024;\n",
              "\n",
              "function _uploadFiles(inputId, outputId) {\n",
              "  const steps = uploadFilesStep(inputId, outputId);\n",
              "  const outputElement = document.getElementById(outputId);\n",
              "  // Cache steps on the outputElement to make it available for the next call\n",
              "  // to uploadFilesContinue from Python.\n",
              "  outputElement.steps = steps;\n",
              "\n",
              "  return _uploadFilesContinue(outputId);\n",
              "}\n",
              "\n",
              "// This is roughly an async generator (not supported in the browser yet),\n",
              "// where there are multiple asynchronous steps and the Python side is going\n",
              "// to poll for completion of each step.\n",
              "// This uses a Promise to block the python side on completion of each step,\n",
              "// then passes the result of the previous step as the input to the next step.\n",
              "function _uploadFilesContinue(outputId) {\n",
              "  const outputElement = document.getElementById(outputId);\n",
              "  const steps = outputElement.steps;\n",
              "\n",
              "  const next = steps.next(outputElement.lastPromiseValue);\n",
              "  return Promise.resolve(next.value.promise).then((value) => {\n",
              "    // Cache the last promise value to make it available to the next\n",
              "    // step of the generator.\n",
              "    outputElement.lastPromiseValue = value;\n",
              "    return next.value.response;\n",
              "  });\n",
              "}\n",
              "\n",
              "/**\n",
              " * Generator function which is called between each async step of the upload\n",
              " * process.\n",
              " * @param {string} inputId Element ID of the input file picker element.\n",
              " * @param {string} outputId Element ID of the output display.\n",
              " * @return {!Iterable<!Object>} Iterable of next steps.\n",
              " */\n",
              "function* uploadFilesStep(inputId, outputId) {\n",
              "  const inputElement = document.getElementById(inputId);\n",
              "  inputElement.disabled = false;\n",
              "\n",
              "  const outputElement = document.getElementById(outputId);\n",
              "  outputElement.innerHTML = '';\n",
              "\n",
              "  const pickedPromise = new Promise((resolve) => {\n",
              "    inputElement.addEventListener('change', (e) => {\n",
              "      resolve(e.target.files);\n",
              "    });\n",
              "  });\n",
              "\n",
              "  const cancel = document.createElement('button');\n",
              "  inputElement.parentElement.appendChild(cancel);\n",
              "  cancel.textContent = 'Cancel upload';\n",
              "  const cancelPromise = new Promise((resolve) => {\n",
              "    cancel.onclick = () => {\n",
              "      resolve(null);\n",
              "    };\n",
              "  });\n",
              "\n",
              "  // Wait for the user to pick the files.\n",
              "  const files = yield {\n",
              "    promise: Promise.race([pickedPromise, cancelPromise]),\n",
              "    response: {\n",
              "      action: 'starting',\n",
              "    }\n",
              "  };\n",
              "\n",
              "  cancel.remove();\n",
              "\n",
              "  // Disable the input element since further picks are not allowed.\n",
              "  inputElement.disabled = true;\n",
              "\n",
              "  if (!files) {\n",
              "    return {\n",
              "      response: {\n",
              "        action: 'complete',\n",
              "      }\n",
              "    };\n",
              "  }\n",
              "\n",
              "  for (const file of files) {\n",
              "    const li = document.createElement('li');\n",
              "    li.append(span(file.name, {fontWeight: 'bold'}));\n",
              "    li.append(span(\n",
              "        `(${file.type || 'n/a'}) - ${file.size} bytes, ` +\n",
              "        `last modified: ${\n",
              "            file.lastModifiedDate ? file.lastModifiedDate.toLocaleDateString() :\n",
              "                                    'n/a'} - `));\n",
              "    const percent = span('0% done');\n",
              "    li.appendChild(percent);\n",
              "\n",
              "    outputElement.appendChild(li);\n",
              "\n",
              "    const fileDataPromise = new Promise((resolve) => {\n",
              "      const reader = new FileReader();\n",
              "      reader.onload = (e) => {\n",
              "        resolve(e.target.result);\n",
              "      };\n",
              "      reader.readAsArrayBuffer(file);\n",
              "    });\n",
              "    // Wait for the data to be ready.\n",
              "    let fileData = yield {\n",
              "      promise: fileDataPromise,\n",
              "      response: {\n",
              "        action: 'continue',\n",
              "      }\n",
              "    };\n",
              "\n",
              "    // Use a chunked sending to avoid message size limits. See b/62115660.\n",
              "    let position = 0;\n",
              "    do {\n",
              "      const length = Math.min(fileData.byteLength - position, MAX_PAYLOAD_SIZE);\n",
              "      const chunk = new Uint8Array(fileData, position, length);\n",
              "      position += length;\n",
              "\n",
              "      const base64 = btoa(String.fromCharCode.apply(null, chunk));\n",
              "      yield {\n",
              "        response: {\n",
              "          action: 'append',\n",
              "          file: file.name,\n",
              "          data: base64,\n",
              "        },\n",
              "      };\n",
              "\n",
              "      let percentDone = fileData.byteLength === 0 ?\n",
              "          100 :\n",
              "          Math.round((position / fileData.byteLength) * 100);\n",
              "      percent.textContent = `${percentDone}% done`;\n",
              "\n",
              "    } while (position < fileData.byteLength);\n",
              "  }\n",
              "\n",
              "  // All done.\n",
              "  yield {\n",
              "    response: {\n",
              "      action: 'complete',\n",
              "    }\n",
              "  };\n",
              "}\n",
              "\n",
              "scope.google = scope.google || {};\n",
              "scope.google.colab = scope.google.colab || {};\n",
              "scope.google.colab._files = {\n",
              "  _uploadFiles,\n",
              "  _uploadFilesContinue,\n",
              "};\n",
              "})(self);\n",
              "</script> "
            ]
          },
          "metadata": {}
        },
        {
          "output_type": "stream",
          "name": "stdout",
          "text": [
            "Saving ckd.csv to ckd.csv\n"
          ]
        }
      ]
    },
    {
      "cell_type": "code",
      "source": [
        "data = pd.read_csv('ckd.csv')\n",
        "data.head()"
      ],
      "metadata": {
        "colab": {
          "base_uri": "https://localhost:8080/",
          "height": 351
        },
        "id": "6pKLILhI23qz",
        "outputId": "8ba6f71b-1ee7-4a61-c32c-ce336bdbd710"
      },
      "execution_count": 5,
      "outputs": [
        {
          "output_type": "execute_result",
          "data": {
            "text/plain": [
              "   Age  Blood Pressure  Specific Gravity  Albumin  Sugar Red Blood Cells  \\\n",
              "0   48              70             1.005        4      0          normal   \n",
              "1   53              90             1.020        2      0        abnormal   \n",
              "2   63              70             1.010        3      0        abnormal   \n",
              "3   68              80             1.010        3      2          normal   \n",
              "4   61              80             1.015        2      0        abnormal   \n",
              "\n",
              "   Pus Cell Pus Cell clumps    Bacteria  Blood Glucose Random  ...  \\\n",
              "0  abnormal         present  notpresent                   117  ...   \n",
              "1  abnormal         present  notpresent                    70  ...   \n",
              "2  abnormal         present  notpresent                   380  ...   \n",
              "3  abnormal         present     present                   157  ...   \n",
              "4  abnormal      notpresent  notpresent                   173  ...   \n",
              "\n",
              "   Packed Cell Volume  White Blood Cell Count  Red Blood Cell Count  \\\n",
              "0                  32                    6700                   3.9   \n",
              "1                  29                   12100                   3.7   \n",
              "2                  32                    4500                   3.8   \n",
              "3                  16                   11000                   2.6   \n",
              "4                  24                    9200                   3.2   \n",
              "\n",
              "   Hypertension  Diabetes Mellitus  Coronary Artery Disease  Appetite  \\\n",
              "0           yes                 no                       no      poor   \n",
              "1           yes                yes                       no      poor   \n",
              "2           yes                yes                       no      poor   \n",
              "3           yes                yes                      yes      poor   \n",
              "4           yes                yes                      yes      poor   \n",
              "\n",
              "   Pedal Edema Anemia Class  \n",
              "0          yes    yes     1  \n",
              "1           no    yes     1  \n",
              "2          yes     no     1  \n",
              "3          yes     no     1  \n",
              "4          yes    yes     1  \n",
              "\n",
              "[5 rows x 25 columns]"
            ],
            "text/html": [
              "\n",
              "  <div id=\"df-3888ff62-dc68-4ed7-9464-0ec8f50f1b94\">\n",
              "    <div class=\"colab-df-container\">\n",
              "      <div>\n",
              "<style scoped>\n",
              "    .dataframe tbody tr th:only-of-type {\n",
              "        vertical-align: middle;\n",
              "    }\n",
              "\n",
              "    .dataframe tbody tr th {\n",
              "        vertical-align: top;\n",
              "    }\n",
              "\n",
              "    .dataframe thead th {\n",
              "        text-align: right;\n",
              "    }\n",
              "</style>\n",
              "<table border=\"1\" class=\"dataframe\">\n",
              "  <thead>\n",
              "    <tr style=\"text-align: right;\">\n",
              "      <th></th>\n",
              "      <th>Age</th>\n",
              "      <th>Blood Pressure</th>\n",
              "      <th>Specific Gravity</th>\n",
              "      <th>Albumin</th>\n",
              "      <th>Sugar</th>\n",
              "      <th>Red Blood Cells</th>\n",
              "      <th>Pus Cell</th>\n",
              "      <th>Pus Cell clumps</th>\n",
              "      <th>Bacteria</th>\n",
              "      <th>Blood Glucose Random</th>\n",
              "      <th>...</th>\n",
              "      <th>Packed Cell Volume</th>\n",
              "      <th>White Blood Cell Count</th>\n",
              "      <th>Red Blood Cell Count</th>\n",
              "      <th>Hypertension</th>\n",
              "      <th>Diabetes Mellitus</th>\n",
              "      <th>Coronary Artery Disease</th>\n",
              "      <th>Appetite</th>\n",
              "      <th>Pedal Edema</th>\n",
              "      <th>Anemia</th>\n",
              "      <th>Class</th>\n",
              "    </tr>\n",
              "  </thead>\n",
              "  <tbody>\n",
              "    <tr>\n",
              "      <th>0</th>\n",
              "      <td>48</td>\n",
              "      <td>70</td>\n",
              "      <td>1.005</td>\n",
              "      <td>4</td>\n",
              "      <td>0</td>\n",
              "      <td>normal</td>\n",
              "      <td>abnormal</td>\n",
              "      <td>present</td>\n",
              "      <td>notpresent</td>\n",
              "      <td>117</td>\n",
              "      <td>...</td>\n",
              "      <td>32</td>\n",
              "      <td>6700</td>\n",
              "      <td>3.9</td>\n",
              "      <td>yes</td>\n",
              "      <td>no</td>\n",
              "      <td>no</td>\n",
              "      <td>poor</td>\n",
              "      <td>yes</td>\n",
              "      <td>yes</td>\n",
              "      <td>1</td>\n",
              "    </tr>\n",
              "    <tr>\n",
              "      <th>1</th>\n",
              "      <td>53</td>\n",
              "      <td>90</td>\n",
              "      <td>1.020</td>\n",
              "      <td>2</td>\n",
              "      <td>0</td>\n",
              "      <td>abnormal</td>\n",
              "      <td>abnormal</td>\n",
              "      <td>present</td>\n",
              "      <td>notpresent</td>\n",
              "      <td>70</td>\n",
              "      <td>...</td>\n",
              "      <td>29</td>\n",
              "      <td>12100</td>\n",
              "      <td>3.7</td>\n",
              "      <td>yes</td>\n",
              "      <td>yes</td>\n",
              "      <td>no</td>\n",
              "      <td>poor</td>\n",
              "      <td>no</td>\n",
              "      <td>yes</td>\n",
              "      <td>1</td>\n",
              "    </tr>\n",
              "    <tr>\n",
              "      <th>2</th>\n",
              "      <td>63</td>\n",
              "      <td>70</td>\n",
              "      <td>1.010</td>\n",
              "      <td>3</td>\n",
              "      <td>0</td>\n",
              "      <td>abnormal</td>\n",
              "      <td>abnormal</td>\n",
              "      <td>present</td>\n",
              "      <td>notpresent</td>\n",
              "      <td>380</td>\n",
              "      <td>...</td>\n",
              "      <td>32</td>\n",
              "      <td>4500</td>\n",
              "      <td>3.8</td>\n",
              "      <td>yes</td>\n",
              "      <td>yes</td>\n",
              "      <td>no</td>\n",
              "      <td>poor</td>\n",
              "      <td>yes</td>\n",
              "      <td>no</td>\n",
              "      <td>1</td>\n",
              "    </tr>\n",
              "    <tr>\n",
              "      <th>3</th>\n",
              "      <td>68</td>\n",
              "      <td>80</td>\n",
              "      <td>1.010</td>\n",
              "      <td>3</td>\n",
              "      <td>2</td>\n",
              "      <td>normal</td>\n",
              "      <td>abnormal</td>\n",
              "      <td>present</td>\n",
              "      <td>present</td>\n",
              "      <td>157</td>\n",
              "      <td>...</td>\n",
              "      <td>16</td>\n",
              "      <td>11000</td>\n",
              "      <td>2.6</td>\n",
              "      <td>yes</td>\n",
              "      <td>yes</td>\n",
              "      <td>yes</td>\n",
              "      <td>poor</td>\n",
              "      <td>yes</td>\n",
              "      <td>no</td>\n",
              "      <td>1</td>\n",
              "    </tr>\n",
              "    <tr>\n",
              "      <th>4</th>\n",
              "      <td>61</td>\n",
              "      <td>80</td>\n",
              "      <td>1.015</td>\n",
              "      <td>2</td>\n",
              "      <td>0</td>\n",
              "      <td>abnormal</td>\n",
              "      <td>abnormal</td>\n",
              "      <td>notpresent</td>\n",
              "      <td>notpresent</td>\n",
              "      <td>173</td>\n",
              "      <td>...</td>\n",
              "      <td>24</td>\n",
              "      <td>9200</td>\n",
              "      <td>3.2</td>\n",
              "      <td>yes</td>\n",
              "      <td>yes</td>\n",
              "      <td>yes</td>\n",
              "      <td>poor</td>\n",
              "      <td>yes</td>\n",
              "      <td>yes</td>\n",
              "      <td>1</td>\n",
              "    </tr>\n",
              "  </tbody>\n",
              "</table>\n",
              "<p>5 rows × 25 columns</p>\n",
              "</div>\n",
              "      <button class=\"colab-df-convert\" onclick=\"convertToInteractive('df-3888ff62-dc68-4ed7-9464-0ec8f50f1b94')\"\n",
              "              title=\"Convert this dataframe to an interactive table.\"\n",
              "              style=\"display:none;\">\n",
              "        \n",
              "  <svg xmlns=\"http://www.w3.org/2000/svg\" height=\"24px\"viewBox=\"0 0 24 24\"\n",
              "       width=\"24px\">\n",
              "    <path d=\"M0 0h24v24H0V0z\" fill=\"none\"/>\n",
              "    <path d=\"M18.56 5.44l.94 2.06.94-2.06 2.06-.94-2.06-.94-.94-2.06-.94 2.06-2.06.94zm-11 1L8.5 8.5l.94-2.06 2.06-.94-2.06-.94L8.5 2.5l-.94 2.06-2.06.94zm10 10l.94 2.06.94-2.06 2.06-.94-2.06-.94-.94-2.06-.94 2.06-2.06.94z\"/><path d=\"M17.41 7.96l-1.37-1.37c-.4-.4-.92-.59-1.43-.59-.52 0-1.04.2-1.43.59L10.3 9.45l-7.72 7.72c-.78.78-.78 2.05 0 2.83L4 21.41c.39.39.9.59 1.41.59.51 0 1.02-.2 1.41-.59l7.78-7.78 2.81-2.81c.8-.78.8-2.07 0-2.86zM5.41 20L4 18.59l7.72-7.72 1.47 1.35L5.41 20z\"/>\n",
              "  </svg>\n",
              "      </button>\n",
              "      \n",
              "  <style>\n",
              "    .colab-df-container {\n",
              "      display:flex;\n",
              "      flex-wrap:wrap;\n",
              "      gap: 12px;\n",
              "    }\n",
              "\n",
              "    .colab-df-convert {\n",
              "      background-color: #E8F0FE;\n",
              "      border: none;\n",
              "      border-radius: 50%;\n",
              "      cursor: pointer;\n",
              "      display: none;\n",
              "      fill: #1967D2;\n",
              "      height: 32px;\n",
              "      padding: 0 0 0 0;\n",
              "      width: 32px;\n",
              "    }\n",
              "\n",
              "    .colab-df-convert:hover {\n",
              "      background-color: #E2EBFA;\n",
              "      box-shadow: 0px 1px 2px rgba(60, 64, 67, 0.3), 0px 1px 3px 1px rgba(60, 64, 67, 0.15);\n",
              "      fill: #174EA6;\n",
              "    }\n",
              "\n",
              "    [theme=dark] .colab-df-convert {\n",
              "      background-color: #3B4455;\n",
              "      fill: #D2E3FC;\n",
              "    }\n",
              "\n",
              "    [theme=dark] .colab-df-convert:hover {\n",
              "      background-color: #434B5C;\n",
              "      box-shadow: 0px 1px 3px 1px rgba(0, 0, 0, 0.15);\n",
              "      filter: drop-shadow(0px 1px 2px rgba(0, 0, 0, 0.3));\n",
              "      fill: #FFFFFF;\n",
              "    }\n",
              "  </style>\n",
              "\n",
              "      <script>\n",
              "        const buttonEl =\n",
              "          document.querySelector('#df-3888ff62-dc68-4ed7-9464-0ec8f50f1b94 button.colab-df-convert');\n",
              "        buttonEl.style.display =\n",
              "          google.colab.kernel.accessAllowed ? 'block' : 'none';\n",
              "\n",
              "        async function convertToInteractive(key) {\n",
              "          const element = document.querySelector('#df-3888ff62-dc68-4ed7-9464-0ec8f50f1b94');\n",
              "          const dataTable =\n",
              "            await google.colab.kernel.invokeFunction('convertToInteractive',\n",
              "                                                     [key], {});\n",
              "          if (!dataTable) return;\n",
              "\n",
              "          const docLinkHtml = 'Like what you see? Visit the ' +\n",
              "            '<a target=\"_blank\" href=https://colab.research.google.com/notebooks/data_table.ipynb>data table notebook</a>'\n",
              "            + ' to learn more about interactive tables.';\n",
              "          element.innerHTML = '';\n",
              "          dataTable['output_type'] = 'display_data';\n",
              "          await google.colab.output.renderOutput(dataTable, element);\n",
              "          const docLink = document.createElement('div');\n",
              "          docLink.innerHTML = docLinkHtml;\n",
              "          element.appendChild(docLink);\n",
              "        }\n",
              "      </script>\n",
              "    </div>\n",
              "  </div>\n",
              "  "
            ]
          },
          "metadata": {},
          "execution_count": 5
        }
      ]
    },
    {
      "cell_type": "markdown",
      "source": [
        "# Data Cleaning"
      ],
      "metadata": {
        "id": "b3bvQLVP7sXk"
      }
    },
    {
      "cell_type": "code",
      "source": [
        "data = data.rename(columns={\"Blood Glucose Random\": \"Glucose\"})"
      ],
      "metadata": {
        "id": "H3Bq1BRy71sj"
      },
      "execution_count": 6,
      "outputs": []
    },
    {
      "cell_type": "code",
      "source": [
        "data.head()"
      ],
      "metadata": {
        "colab": {
          "base_uri": "https://localhost:8080/",
          "height": 351
        },
        "id": "i77yRXFc_AC0",
        "outputId": "9bc0f03f-6afa-4d17-fc5b-d66987d8a469"
      },
      "execution_count": 7,
      "outputs": [
        {
          "output_type": "execute_result",
          "data": {
            "text/plain": [
              "   Age  Blood Pressure  Specific Gravity  Albumin  Sugar Red Blood Cells  \\\n",
              "0   48              70             1.005        4      0          normal   \n",
              "1   53              90             1.020        2      0        abnormal   \n",
              "2   63              70             1.010        3      0        abnormal   \n",
              "3   68              80             1.010        3      2          normal   \n",
              "4   61              80             1.015        2      0        abnormal   \n",
              "\n",
              "   Pus Cell Pus Cell clumps    Bacteria  Glucose  ...  Packed Cell Volume  \\\n",
              "0  abnormal         present  notpresent      117  ...                  32   \n",
              "1  abnormal         present  notpresent       70  ...                  29   \n",
              "2  abnormal         present  notpresent      380  ...                  32   \n",
              "3  abnormal         present     present      157  ...                  16   \n",
              "4  abnormal      notpresent  notpresent      173  ...                  24   \n",
              "\n",
              "   White Blood Cell Count  Red Blood Cell Count  Hypertension  \\\n",
              "0                    6700                   3.9           yes   \n",
              "1                   12100                   3.7           yes   \n",
              "2                    4500                   3.8           yes   \n",
              "3                   11000                   2.6           yes   \n",
              "4                    9200                   3.2           yes   \n",
              "\n",
              "   Diabetes Mellitus  Coronary Artery Disease  Appetite  Pedal Edema Anemia  \\\n",
              "0                 no                       no      poor          yes    yes   \n",
              "1                yes                       no      poor           no    yes   \n",
              "2                yes                       no      poor          yes     no   \n",
              "3                yes                      yes      poor          yes     no   \n",
              "4                yes                      yes      poor          yes    yes   \n",
              "\n",
              "  Class  \n",
              "0     1  \n",
              "1     1  \n",
              "2     1  \n",
              "3     1  \n",
              "4     1  \n",
              "\n",
              "[5 rows x 25 columns]"
            ],
            "text/html": [
              "\n",
              "  <div id=\"df-267c5637-8e46-4940-b54c-c8b76770573c\">\n",
              "    <div class=\"colab-df-container\">\n",
              "      <div>\n",
              "<style scoped>\n",
              "    .dataframe tbody tr th:only-of-type {\n",
              "        vertical-align: middle;\n",
              "    }\n",
              "\n",
              "    .dataframe tbody tr th {\n",
              "        vertical-align: top;\n",
              "    }\n",
              "\n",
              "    .dataframe thead th {\n",
              "        text-align: right;\n",
              "    }\n",
              "</style>\n",
              "<table border=\"1\" class=\"dataframe\">\n",
              "  <thead>\n",
              "    <tr style=\"text-align: right;\">\n",
              "      <th></th>\n",
              "      <th>Age</th>\n",
              "      <th>Blood Pressure</th>\n",
              "      <th>Specific Gravity</th>\n",
              "      <th>Albumin</th>\n",
              "      <th>Sugar</th>\n",
              "      <th>Red Blood Cells</th>\n",
              "      <th>Pus Cell</th>\n",
              "      <th>Pus Cell clumps</th>\n",
              "      <th>Bacteria</th>\n",
              "      <th>Glucose</th>\n",
              "      <th>...</th>\n",
              "      <th>Packed Cell Volume</th>\n",
              "      <th>White Blood Cell Count</th>\n",
              "      <th>Red Blood Cell Count</th>\n",
              "      <th>Hypertension</th>\n",
              "      <th>Diabetes Mellitus</th>\n",
              "      <th>Coronary Artery Disease</th>\n",
              "      <th>Appetite</th>\n",
              "      <th>Pedal Edema</th>\n",
              "      <th>Anemia</th>\n",
              "      <th>Class</th>\n",
              "    </tr>\n",
              "  </thead>\n",
              "  <tbody>\n",
              "    <tr>\n",
              "      <th>0</th>\n",
              "      <td>48</td>\n",
              "      <td>70</td>\n",
              "      <td>1.005</td>\n",
              "      <td>4</td>\n",
              "      <td>0</td>\n",
              "      <td>normal</td>\n",
              "      <td>abnormal</td>\n",
              "      <td>present</td>\n",
              "      <td>notpresent</td>\n",
              "      <td>117</td>\n",
              "      <td>...</td>\n",
              "      <td>32</td>\n",
              "      <td>6700</td>\n",
              "      <td>3.9</td>\n",
              "      <td>yes</td>\n",
              "      <td>no</td>\n",
              "      <td>no</td>\n",
              "      <td>poor</td>\n",
              "      <td>yes</td>\n",
              "      <td>yes</td>\n",
              "      <td>1</td>\n",
              "    </tr>\n",
              "    <tr>\n",
              "      <th>1</th>\n",
              "      <td>53</td>\n",
              "      <td>90</td>\n",
              "      <td>1.020</td>\n",
              "      <td>2</td>\n",
              "      <td>0</td>\n",
              "      <td>abnormal</td>\n",
              "      <td>abnormal</td>\n",
              "      <td>present</td>\n",
              "      <td>notpresent</td>\n",
              "      <td>70</td>\n",
              "      <td>...</td>\n",
              "      <td>29</td>\n",
              "      <td>12100</td>\n",
              "      <td>3.7</td>\n",
              "      <td>yes</td>\n",
              "      <td>yes</td>\n",
              "      <td>no</td>\n",
              "      <td>poor</td>\n",
              "      <td>no</td>\n",
              "      <td>yes</td>\n",
              "      <td>1</td>\n",
              "    </tr>\n",
              "    <tr>\n",
              "      <th>2</th>\n",
              "      <td>63</td>\n",
              "      <td>70</td>\n",
              "      <td>1.010</td>\n",
              "      <td>3</td>\n",
              "      <td>0</td>\n",
              "      <td>abnormal</td>\n",
              "      <td>abnormal</td>\n",
              "      <td>present</td>\n",
              "      <td>notpresent</td>\n",
              "      <td>380</td>\n",
              "      <td>...</td>\n",
              "      <td>32</td>\n",
              "      <td>4500</td>\n",
              "      <td>3.8</td>\n",
              "      <td>yes</td>\n",
              "      <td>yes</td>\n",
              "      <td>no</td>\n",
              "      <td>poor</td>\n",
              "      <td>yes</td>\n",
              "      <td>no</td>\n",
              "      <td>1</td>\n",
              "    </tr>\n",
              "    <tr>\n",
              "      <th>3</th>\n",
              "      <td>68</td>\n",
              "      <td>80</td>\n",
              "      <td>1.010</td>\n",
              "      <td>3</td>\n",
              "      <td>2</td>\n",
              "      <td>normal</td>\n",
              "      <td>abnormal</td>\n",
              "      <td>present</td>\n",
              "      <td>present</td>\n",
              "      <td>157</td>\n",
              "      <td>...</td>\n",
              "      <td>16</td>\n",
              "      <td>11000</td>\n",
              "      <td>2.6</td>\n",
              "      <td>yes</td>\n",
              "      <td>yes</td>\n",
              "      <td>yes</td>\n",
              "      <td>poor</td>\n",
              "      <td>yes</td>\n",
              "      <td>no</td>\n",
              "      <td>1</td>\n",
              "    </tr>\n",
              "    <tr>\n",
              "      <th>4</th>\n",
              "      <td>61</td>\n",
              "      <td>80</td>\n",
              "      <td>1.015</td>\n",
              "      <td>2</td>\n",
              "      <td>0</td>\n",
              "      <td>abnormal</td>\n",
              "      <td>abnormal</td>\n",
              "      <td>notpresent</td>\n",
              "      <td>notpresent</td>\n",
              "      <td>173</td>\n",
              "      <td>...</td>\n",
              "      <td>24</td>\n",
              "      <td>9200</td>\n",
              "      <td>3.2</td>\n",
              "      <td>yes</td>\n",
              "      <td>yes</td>\n",
              "      <td>yes</td>\n",
              "      <td>poor</td>\n",
              "      <td>yes</td>\n",
              "      <td>yes</td>\n",
              "      <td>1</td>\n",
              "    </tr>\n",
              "  </tbody>\n",
              "</table>\n",
              "<p>5 rows × 25 columns</p>\n",
              "</div>\n",
              "      <button class=\"colab-df-convert\" onclick=\"convertToInteractive('df-267c5637-8e46-4940-b54c-c8b76770573c')\"\n",
              "              title=\"Convert this dataframe to an interactive table.\"\n",
              "              style=\"display:none;\">\n",
              "        \n",
              "  <svg xmlns=\"http://www.w3.org/2000/svg\" height=\"24px\"viewBox=\"0 0 24 24\"\n",
              "       width=\"24px\">\n",
              "    <path d=\"M0 0h24v24H0V0z\" fill=\"none\"/>\n",
              "    <path d=\"M18.56 5.44l.94 2.06.94-2.06 2.06-.94-2.06-.94-.94-2.06-.94 2.06-2.06.94zm-11 1L8.5 8.5l.94-2.06 2.06-.94-2.06-.94L8.5 2.5l-.94 2.06-2.06.94zm10 10l.94 2.06.94-2.06 2.06-.94-2.06-.94-.94-2.06-.94 2.06-2.06.94z\"/><path d=\"M17.41 7.96l-1.37-1.37c-.4-.4-.92-.59-1.43-.59-.52 0-1.04.2-1.43.59L10.3 9.45l-7.72 7.72c-.78.78-.78 2.05 0 2.83L4 21.41c.39.39.9.59 1.41.59.51 0 1.02-.2 1.41-.59l7.78-7.78 2.81-2.81c.8-.78.8-2.07 0-2.86zM5.41 20L4 18.59l7.72-7.72 1.47 1.35L5.41 20z\"/>\n",
              "  </svg>\n",
              "      </button>\n",
              "      \n",
              "  <style>\n",
              "    .colab-df-container {\n",
              "      display:flex;\n",
              "      flex-wrap:wrap;\n",
              "      gap: 12px;\n",
              "    }\n",
              "\n",
              "    .colab-df-convert {\n",
              "      background-color: #E8F0FE;\n",
              "      border: none;\n",
              "      border-radius: 50%;\n",
              "      cursor: pointer;\n",
              "      display: none;\n",
              "      fill: #1967D2;\n",
              "      height: 32px;\n",
              "      padding: 0 0 0 0;\n",
              "      width: 32px;\n",
              "    }\n",
              "\n",
              "    .colab-df-convert:hover {\n",
              "      background-color: #E2EBFA;\n",
              "      box-shadow: 0px 1px 2px rgba(60, 64, 67, 0.3), 0px 1px 3px 1px rgba(60, 64, 67, 0.15);\n",
              "      fill: #174EA6;\n",
              "    }\n",
              "\n",
              "    [theme=dark] .colab-df-convert {\n",
              "      background-color: #3B4455;\n",
              "      fill: #D2E3FC;\n",
              "    }\n",
              "\n",
              "    [theme=dark] .colab-df-convert:hover {\n",
              "      background-color: #434B5C;\n",
              "      box-shadow: 0px 1px 3px 1px rgba(0, 0, 0, 0.15);\n",
              "      filter: drop-shadow(0px 1px 2px rgba(0, 0, 0, 0.3));\n",
              "      fill: #FFFFFF;\n",
              "    }\n",
              "  </style>\n",
              "\n",
              "      <script>\n",
              "        const buttonEl =\n",
              "          document.querySelector('#df-267c5637-8e46-4940-b54c-c8b76770573c button.colab-df-convert');\n",
              "        buttonEl.style.display =\n",
              "          google.colab.kernel.accessAllowed ? 'block' : 'none';\n",
              "\n",
              "        async function convertToInteractive(key) {\n",
              "          const element = document.querySelector('#df-267c5637-8e46-4940-b54c-c8b76770573c');\n",
              "          const dataTable =\n",
              "            await google.colab.kernel.invokeFunction('convertToInteractive',\n",
              "                                                     [key], {});\n",
              "          if (!dataTable) return;\n",
              "\n",
              "          const docLinkHtml = 'Like what you see? Visit the ' +\n",
              "            '<a target=\"_blank\" href=https://colab.research.google.com/notebooks/data_table.ipynb>data table notebook</a>'\n",
              "            + ' to learn more about interactive tables.';\n",
              "          element.innerHTML = '';\n",
              "          dataTable['output_type'] = 'display_data';\n",
              "          await google.colab.output.renderOutput(dataTable, element);\n",
              "          const docLink = document.createElement('div');\n",
              "          docLink.innerHTML = docLinkHtml;\n",
              "          element.appendChild(docLink);\n",
              "        }\n",
              "      </script>\n",
              "    </div>\n",
              "  </div>\n",
              "  "
            ]
          },
          "metadata": {},
          "execution_count": 7
        }
      ]
    },
    {
      "cell_type": "markdown",
      "source": [
        "# Exploratory Data Analysis"
      ],
      "metadata": {
        "id": "RCQ3iHakDqrM"
      }
    },
    {
      "cell_type": "code",
      "source": [
        "data.shape"
      ],
      "metadata": {
        "colab": {
          "base_uri": "https://localhost:8080/"
        },
        "id": "1NvfaRLDDxpD",
        "outputId": "ea479dc5-b38e-4882-8d1b-72e3f186aa2a"
      },
      "execution_count": 12,
      "outputs": [
        {
          "output_type": "execute_result",
          "data": {
            "text/plain": [
              "(158, 25)"
            ]
          },
          "metadata": {},
          "execution_count": 12
        }
      ]
    },
    {
      "cell_type": "code",
      "source": [
        "data.info()"
      ],
      "metadata": {
        "colab": {
          "base_uri": "https://localhost:8080/"
        },
        "id": "sivcof4r_Ey2",
        "outputId": "9ec73501-d50a-4433-b586-c320bccb98c2"
      },
      "execution_count": 8,
      "outputs": [
        {
          "output_type": "stream",
          "name": "stdout",
          "text": [
            "<class 'pandas.core.frame.DataFrame'>\n",
            "RangeIndex: 158 entries, 0 to 157\n",
            "Data columns (total 25 columns):\n",
            " #   Column                   Non-Null Count  Dtype  \n",
            "---  ------                   --------------  -----  \n",
            " 0   Age                      158 non-null    int64  \n",
            " 1   Blood Pressure           158 non-null    int64  \n",
            " 2   Specific Gravity         158 non-null    float64\n",
            " 3   Albumin                  158 non-null    int64  \n",
            " 4   Sugar                    158 non-null    int64  \n",
            " 5   Red Blood Cells          158 non-null    object \n",
            " 6   Pus Cell                 158 non-null    object \n",
            " 7   Pus Cell clumps          158 non-null    object \n",
            " 8   Bacteria                 158 non-null    object \n",
            " 9   Glucose                  158 non-null    int64  \n",
            " 10  Blood Urea               158 non-null    int64  \n",
            " 11  Serum Creatinine         158 non-null    float64\n",
            " 12  Sodium                   158 non-null    int64  \n",
            " 13  Potassium                158 non-null    float64\n",
            " 14  Hemoglobin               158 non-null    float64\n",
            " 15  Packed Cell Volume       158 non-null    int64  \n",
            " 16  White Blood Cell Count   158 non-null    int64  \n",
            " 17  Red Blood Cell Count     158 non-null    float64\n",
            " 18  Hypertension             158 non-null    object \n",
            " 19  Diabetes Mellitus        158 non-null    object \n",
            " 20  Coronary Artery Disease  158 non-null    object \n",
            " 21  Appetite                 158 non-null    object \n",
            " 22  Pedal Edema              158 non-null    object \n",
            " 23  Anemia                   158 non-null    object \n",
            " 24  Class                    158 non-null    int64  \n",
            "dtypes: float64(5), int64(10), object(10)\n",
            "memory usage: 31.0+ KB\n"
          ]
        }
      ]
    },
    {
      "cell_type": "code",
      "source": [
        "data['Class'].value_counts(normalize=True)"
      ],
      "metadata": {
        "colab": {
          "base_uri": "https://localhost:8080/"
        },
        "id": "E5Vg48Gd_QWH",
        "outputId": "6a6ce2b4-5c58-423b-d269-ddca29d47d02"
      },
      "execution_count": 9,
      "outputs": [
        {
          "output_type": "execute_result",
          "data": {
            "text/plain": [
              "0    0.727848\n",
              "1    0.272152\n",
              "Name: Class, dtype: float64"
            ]
          },
          "metadata": {},
          "execution_count": 9
        }
      ]
    },
    {
      "cell_type": "markdown",
      "source": [
        "Let’s look at two columns in particular: the hemoglobin level (in the patient’s blood), and the blood glucose level (at a random time in the day; without fasting specially for the blood test).\n",
        "\n",
        "We’ll draw a scatter plot to visualize the relation between the two variables."
      ],
      "metadata": {
        "id": "f67uQd4z_jiC"
      }
    },
    {
      "cell_type": "code",
      "source": [
        "sn.scatterplot(x=\"Hemoglobin\", y=\"Glucose\", data=data, hue=\"Class\")\n",
        "plt.show()"
      ],
      "metadata": {
        "colab": {
          "base_uri": "https://localhost:8080/",
          "height": 279
        },
        "id": "h5-slUUM_w2F",
        "outputId": "2a2c5b9b-be8b-49e5-e7e1-517550931e73"
      },
      "execution_count": 10,
      "outputs": [
        {
          "output_type": "display_data",
          "data": {
            "text/plain": [
              "<Figure size 432x288 with 1 Axes>"
            ],
            "image/png": "[encoded data removed]"
          },
          "metadata": {
            "needs_background": "light"
          }
        }
      ]
    },
    {
      "cell_type": "markdown",
      "source": [
        "Suppose Alice is a new patient who is not in the data set. If I tell you Alice’s hemoglobin level and blood glucose level, could you predict whether she has CKD? It sure looks like it! You can see a very clear pattern here: points in the lower-right tend to represent people who don’t have CKD, and the rest tend to be folks with CKD. To a human, the pattern is obvious. But how can we program a computer to automatically detect patterns such as this one?"
      ],
      "metadata": {
        "id": "MItSRsI9BAMJ"
      }
    },
    {
      "cell_type": "markdown",
      "source": [
        "## Nearest-Neighbor Classifier"
      ],
      "metadata": {
        "id": "2tVuJ8WKBak4"
      }
    },
    {
      "cell_type": "markdown",
      "source": [
        "If we have Alice’s hemoglobin and glucose numbers, we can put her somewhere on this scatterplot; the hemoglobin is her x-coordinate, and the glucose is her y-coordinate. Now, to predict whether she has CKD or not, we find the nearest point in the scatterplot and check whether it is blue or gold; we predict that Alice should receive the same diagnosis as that patient.\n",
        "\n",
        "In other words, to classify Alice as CKD or not, we find the patient in the training set who is “nearest” to Alice, and then use that patient’s diagnosis as our prediction for Alice. The intuition is that if two points are near each other in the scatterplot, then the corresponding measurements are pretty similar, so we might expect them to receive the same diagnosis (more likely than not). We don’t know Alice’s diagnosis, but we do know the diagnosis of all the patients in the training set, so we find the patient in the training set who is most similar to Alice, and use that patient’s diagnosis to predict Alice’s diagnosis."
      ],
      "metadata": {
        "id": "KQhtcL2cBs1G"
      }
    },
    {
      "cell_type": "code",
      "source": [
        "sn.scatterplot(x=\"Hemoglobin\", y=\"Glucose\", data=data, hue=\"Class\")\n",
        "plt.show()"
      ],
      "metadata": {
        "colab": {
          "base_uri": "https://localhost:8080/",
          "height": 279
        },
        "id": "l-ZwpAJ7BaFa",
        "outputId": "fda5ec8f-f53b-45ed-9507-887047c21a74"
      },
      "execution_count": 11,
      "outputs": [
        {
          "output_type": "display_data",
          "data": {
            "text/plain": [
              "<Figure size 432x288 with 1 Axes>"
            ],
            "image/png": "[encoded data removed]"
          },
          "metadata": {
            "needs_background": "light"
          }
        }
      ]
    },
    {
      "cell_type": "markdown",
      "source": [
        "The nearest neighbor classifier would work like this:\n",
        "1. Find the point in the training set that is nearest to the new point.\n",
        "2. If that nearest point is a “CKD” point, classify the new point as “CKD”. If the nearest point is a “not CKD” point, classify the new point as “not CKD”.\n",
        "\n",
        "The scatterplot suggests that this nearest neighbor classifier should be pretty accurate. Points in the lower-right will tend to receive a “no CKD” diagnosis, as their nearest neighbor will be a blue point. The rest of the points will tend to receive a “CKD” diagnosis, as their nearest neighbor will be a orange point. So the nearest neighbor strategy seems to capture our intuition pretty well, for this example."
      ],
      "metadata": {
        "id": "YGv2qaTAC6fq"
      }
    },
    {
      "cell_type": "markdown",
      "source": [
        "## k-nearest neighbor classifier"
      ],
      "metadata": {
        "id": "KAi-w3HkEAKH"
      }
    },
    {
      "cell_type": "markdown",
      "source": [
        "However, the separation between the two classes won’t always be quite so clean. For instance, suppose that instead of hemoglobin levels we were to look at white blood cell count. Look at what happens:"
      ],
      "metadata": {
        "id": "SraUJT1uD-jH"
      }
    },
    {
      "cell_type": "code",
      "source": [
        "sn.scatterplot(x=\"White Blood Cell Count\", y=\"Glucose\", data=data, hue=\"Class\")\n",
        "plt.show()"
      ],
      "metadata": {
        "colab": {
          "base_uri": "https://localhost:8080/",
          "height": 279
        },
        "id": "FA4MFnwRENq1",
        "outputId": "3b077e13-d4ea-4dd2-d32b-74eb518c3ff1"
      },
      "execution_count": 13,
      "outputs": [
        {
          "output_type": "display_data",
          "data": {
            "text/plain": [
              "<Figure size 432x288 with 1 Axes>"
            ],
            "image/png": "[encoded data removed]"
          },
          "metadata": {
            "needs_background": "light"
          }
        }
      ]
    },
    {
      "cell_type": "markdown",
      "source": [
        " As the scatterplot above indicates, sometimes people with CKD have glucose and white blood cell levels that look identical to those of someone without CKD, so any classifier is inevitably going to make the wrong prediction for them.\n",
        "\n",
        "Can we automate this on a computer? Well, the nearest neighbor classifier would be a reasonable choice here too. Take a minute and think it through: how will its predictions compare to those from the intuitive strategy above? When will they differ?\n",
        "\n",
        "Its predictions will be pretty similar to our intuitive strategy, but occasionally it will make a different prediction. In particular, if Alice’s blood test results happen to put her right near one of the blue dots in the lower-left, the intuitive strategy would predict ‘not CKD’, whereas the nearest neighbor classifier will predict ‘CKD’.\n",
        "\n",
        "There is a simple generalization of the nearest neighbor classifier that fixes this anomaly. It is called the k-nearest neighbor classifier. To predict Alice’s diagnosis, rather than looking at just the one neighbor closest to her, we can look at the 3 points that are closest to her, and use the diagnosis for each of those 3 points to predict Alice’s diagnosis. In particular, we’ll use the majority value among those 3 diagnoses as our prediction for Alice’s diagnosis. Of course, there’s nothing special about the number 3: we could use 4, or 5, or more. (It’s often convenient to pick an odd number, so that we don’t have to deal with ties.) In general, we pick a number\n",
        ", and our predicted diagnosis for Alice is based on the patients in the training set who are closest to Alice. Intuitively, these are the patients whose blood test results were most similar to Alice, so it seems reasonable to use their diagnoses to predict Alice’s diagnosis."
      ],
      "metadata": {
        "id": "_UP3t8SkEkaa"
      }
    },
    {
      "cell_type": "markdown",
      "source": [
        "## Training and Testing Split"
      ],
      "metadata": {
        "id": "v5uIjycxFSiD"
      }
    },
    {
      "cell_type": "markdown",
      "source": [
        "### Isolate the `y` variable.\n",
        "This is also known as the outcome variable / the target variable / the dependent variable. Essentially, this is the variable that you want to predict."
      ],
      "metadata": {
        "id": "H1pnSHcUFUtN"
      }
    },
    {
      "cell_type": "code",
      "source": [
        "y=data[\"Class\"]"
      ],
      "metadata": {
        "id": "1ZSiYOLpFeIC"
      },
      "execution_count": 14,
      "outputs": []
    },
    {
      "cell_type": "code",
      "source": [
        "y.head()"
      ],
      "metadata": {
        "colab": {
          "base_uri": "https://localhost:8080/"
        },
        "id": "ZlwHUVtTFkG0",
        "outputId": "9a19706b-3c4d-46f7-8033-0802e81b14cc"
      },
      "execution_count": 15,
      "outputs": [
        {
          "output_type": "execute_result",
          "data": {
            "text/plain": [
              "0    1\n",
              "1    1\n",
              "2    1\n",
              "3    1\n",
              "4    1\n",
              "Name: Class, dtype: int64"
            ]
          },
          "metadata": {},
          "execution_count": 15
        }
      ]
    },
    {
      "cell_type": "markdown",
      "source": [
        "### Isolate the `X` variables.\n",
        "Also known as the features / the independent variables. Essentially, these are the variables that you want to use to predict `y`."
      ],
      "metadata": {
        "id": "e5ct9IwfFtWm"
      }
    },
    {
      "cell_type": "code",
      "source": [
        "X= data.drop(columns=\"Class\")"
      ],
      "metadata": {
        "id": "la2yd6dxF0IJ"
      },
      "execution_count": 17,
      "outputs": []
    },
    {
      "cell_type": "code",
      "source": [
        "X.head()"
      ],
      "metadata": {
        "colab": {
          "base_uri": "https://localhost:8080/",
          "height": 351
        },
        "id": "0gfbb2SpGDo9",
        "outputId": "2858236e-b089-4576-ef4d-b3363880b9af"
      },
      "execution_count": 18,
      "outputs": [
        {
          "output_type": "execute_result",
          "data": {
            "text/plain": [
              "   Age  Blood Pressure  Specific Gravity  Albumin  Sugar Red Blood Cells  \\\n",
              "0   48              70             1.005        4      0          normal   \n",
              "1   53              90             1.020        2      0        abnormal   \n",
              "2   63              70             1.010        3      0        abnormal   \n",
              "3   68              80             1.010        3      2          normal   \n",
              "4   61              80             1.015        2      0        abnormal   \n",
              "\n",
              "   Pus Cell Pus Cell clumps    Bacteria  Glucose  ...  Hemoglobin  \\\n",
              "0  abnormal         present  notpresent      117  ...        11.2   \n",
              "1  abnormal         present  notpresent       70  ...         9.5   \n",
              "2  abnormal         present  notpresent      380  ...        10.8   \n",
              "3  abnormal         present     present      157  ...         5.6   \n",
              "4  abnormal      notpresent  notpresent      173  ...         7.7   \n",
              "\n",
              "   Packed Cell Volume  White Blood Cell Count  Red Blood Cell Count  \\\n",
              "0                  32                    6700                   3.9   \n",
              "1                  29                   12100                   3.7   \n",
              "2                  32                    4500                   3.8   \n",
              "3                  16                   11000                   2.6   \n",
              "4                  24                    9200                   3.2   \n",
              "\n",
              "   Hypertension  Diabetes Mellitus  Coronary Artery Disease  Appetite  \\\n",
              "0           yes                 no                       no      poor   \n",
              "1           yes                yes                       no      poor   \n",
              "2           yes                yes                       no      poor   \n",
              "3           yes                yes                      yes      poor   \n",
              "4           yes                yes                      yes      poor   \n",
              "\n",
              "  Pedal Edema Anemia  \n",
              "0         yes    yes  \n",
              "1          no    yes  \n",
              "2         yes     no  \n",
              "3         yes     no  \n",
              "4         yes    yes  \n",
              "\n",
              "[5 rows x 24 columns]"
            ],
            "text/html": [
              "\n",
              "  <div id=\"df-5bbbeac2-5efa-4210-b0f2-72f278181e21\">\n",
              "    <div class=\"colab-df-container\">\n",
              "      <div>\n",
              "<style scoped>\n",
              "    .dataframe tbody tr th:only-of-type {\n",
              "        vertical-align: middle;\n",
              "    }\n",
              "\n",
              "    .dataframe tbody tr th {\n",
              "        vertical-align: top;\n",
              "    }\n",
              "\n",
              "    .dataframe thead th {\n",
              "        text-align: right;\n",
              "    }\n",
              "</style>\n",
              "<table border=\"1\" class=\"dataframe\">\n",
              "  <thead>\n",
              "    <tr style=\"text-align: right;\">\n",
              "      <th></th>\n",
              "      <th>Age</th>\n",
              "      <th>Blood Pressure</th>\n",
              "      <th>Specific Gravity</th>\n",
              "      <th>Albumin</th>\n",
              "      <th>Sugar</th>\n",
              "      <th>Red Blood Cells</th>\n",
              "      <th>Pus Cell</th>\n",
              "      <th>Pus Cell clumps</th>\n",
              "      <th>Bacteria</th>\n",
              "      <th>Glucose</th>\n",
              "      <th>...</th>\n",
              "      <th>Hemoglobin</th>\n",
              "      <th>Packed Cell Volume</th>\n",
              "      <th>White Blood Cell Count</th>\n",
              "      <th>Red Blood Cell Count</th>\n",
              "      <th>Hypertension</th>\n",
              "      <th>Diabetes Mellitus</th>\n",
              "      <th>Coronary Artery Disease</th>\n",
              "      <th>Appetite</th>\n",
              "      <th>Pedal Edema</th>\n",
              "      <th>Anemia</th>\n",
              "    </tr>\n",
              "  </thead>\n",
              "  <tbody>\n",
              "    <tr>\n",
              "      <th>0</th>\n",
              "      <td>48</td>\n",
              "      <td>70</td>\n",
              "      <td>1.005</td>\n",
              "      <td>4</td>\n",
              "      <td>0</td>\n",
              "      <td>normal</td>\n",
              "      <td>abnormal</td>\n",
              "      <td>present</td>\n",
              "      <td>notpresent</td>\n",
              "      <td>117</td>\n",
              "      <td>...</td>\n",
              "      <td>11.2</td>\n",
              "      <td>32</td>\n",
              "      <td>6700</td>\n",
              "      <td>3.9</td>\n",
              "      <td>yes</td>\n",
              "      <td>no</td>\n",
              "      <td>no</td>\n",
              "      <td>poor</td>\n",
              "      <td>yes</td>\n",
              "      <td>yes</td>\n",
              "    </tr>\n",
              "    <tr>\n",
              "      <th>1</th>\n",
              "      <td>53</td>\n",
              "      <td>90</td>\n",
              "      <td>1.020</td>\n",
              "      <td>2</td>\n",
              "      <td>0</td>\n",
              "      <td>abnormal</td>\n",
              "      <td>abnormal</td>\n",
              "      <td>present</td>\n",
              "      <td>notpresent</td>\n",
              "      <td>70</td>\n",
              "      <td>...</td>\n",
              "      <td>9.5</td>\n",
              "      <td>29</td>\n",
              "      <td>12100</td>\n",
              "      <td>3.7</td>\n",
              "      <td>yes</td>\n",
              "      <td>yes</td>\n",
              "      <td>no</td>\n",
              "      <td>poor</td>\n",
              "      <td>no</td>\n",
              "      <td>yes</td>\n",
              "    </tr>\n",
              "    <tr>\n",
              "      <th>2</th>\n",
              "      <td>63</td>\n",
              "      <td>70</td>\n",
              "      <td>1.010</td>\n",
              "      <td>3</td>\n",
              "      <td>0</td>\n",
              "      <td>abnormal</td>\n",
              "      <td>abnormal</td>\n",
              "      <td>present</td>\n",
              "      <td>notpresent</td>\n",
              "      <td>380</td>\n",
              "      <td>...</td>\n",
              "      <td>10.8</td>\n",
              "      <td>32</td>\n",
              "      <td>4500</td>\n",
              "      <td>3.8</td>\n",
              "      <td>yes</td>\n",
              "      <td>yes</td>\n",
              "      <td>no</td>\n",
              "      <td>poor</td>\n",
              "      <td>yes</td>\n",
              "      <td>no</td>\n",
              "    </tr>\n",
              "    <tr>\n",
              "      <th>3</th>\n",
              "      <td>68</td>\n",
              "      <td>80</td>\n",
              "      <td>1.010</td>\n",
              "      <td>3</td>\n",
              "      <td>2</td>\n",
              "      <td>normal</td>\n",
              "      <td>abnormal</td>\n",
              "      <td>present</td>\n",
              "      <td>present</td>\n",
              "      <td>157</td>\n",
              "      <td>...</td>\n",
              "      <td>5.6</td>\n",
              "      <td>16</td>\n",
              "      <td>11000</td>\n",
              "      <td>2.6</td>\n",
              "      <td>yes</td>\n",
              "      <td>yes</td>\n",
              "      <td>yes</td>\n",
              "      <td>poor</td>\n",
              "      <td>yes</td>\n",
              "      <td>no</td>\n",
              "    </tr>\n",
              "    <tr>\n",
              "      <th>4</th>\n",
              "      <td>61</td>\n",
              "      <td>80</td>\n",
              "      <td>1.015</td>\n",
              "      <td>2</td>\n",
              "      <td>0</td>\n",
              "      <td>abnormal</td>\n",
              "      <td>abnormal</td>\n",
              "      <td>notpresent</td>\n",
              "      <td>notpresent</td>\n",
              "      <td>173</td>\n",
              "      <td>...</td>\n",
              "      <td>7.7</td>\n",
              "      <td>24</td>\n",
              "      <td>9200</td>\n",
              "      <td>3.2</td>\n",
              "      <td>yes</td>\n",
              "      <td>yes</td>\n",
              "      <td>yes</td>\n",
              "      <td>poor</td>\n",
              "      <td>yes</td>\n",
              "      <td>yes</td>\n",
              "    </tr>\n",
              "  </tbody>\n",
              "</table>\n",
              "<p>5 rows × 24 columns</p>\n",
              "</div>\n",
              "      <button class=\"colab-df-convert\" onclick=\"convertToInteractive('df-5bbbeac2-5efa-4210-b0f2-72f278181e21')\"\n",
              "              title=\"Convert this dataframe to an interactive table.\"\n",
              "              style=\"display:none;\">\n",
              "        \n",
              "  <svg xmlns=\"http://www.w3.org/2000/svg\" height=\"24px\"viewBox=\"0 0 24 24\"\n",
              "       width=\"24px\">\n",
              "    <path d=\"M0 0h24v24H0V0z\" fill=\"none\"/>\n",
              "    <path d=\"M18.56 5.44l.94 2.06.94-2.06 2.06-.94-2.06-.94-.94-2.06-.94 2.06-2.06.94zm-11 1L8.5 8.5l.94-2.06 2.06-.94-2.06-.94L8.5 2.5l-.94 2.06-2.06.94zm10 10l.94 2.06.94-2.06 2.06-.94-2.06-.94-.94-2.06-.94 2.06-2.06.94z\"/><path d=\"M17.41 7.96l-1.37-1.37c-.4-.4-.92-.59-1.43-.59-.52 0-1.04.2-1.43.59L10.3 9.45l-7.72 7.72c-.78.78-.78 2.05 0 2.83L4 21.41c.39.39.9.59 1.41.59.51 0 1.02-.2 1.41-.59l7.78-7.78 2.81-2.81c.8-.78.8-2.07 0-2.86zM5.41 20L4 18.59l7.72-7.72 1.47 1.35L5.41 20z\"/>\n",
              "  </svg>\n",
              "      </button>\n",
              "      \n",
              "  <style>\n",
              "    .colab-df-container {\n",
              "      display:flex;\n",
              "      flex-wrap:wrap;\n",
              "      gap: 12px;\n",
              "    }\n",
              "\n",
              "    .colab-df-convert {\n",
              "      background-color: #E8F0FE;\n",
              "      border: none;\n",
              "      border-radius: 50%;\n",
              "      cursor: pointer;\n",
              "      display: none;\n",
              "      fill: #1967D2;\n",
              "      height: 32px;\n",
              "      padding: 0 0 0 0;\n",
              "      width: 32px;\n",
              "    }\n",
              "\n",
              "    .colab-df-convert:hover {\n",
              "      background-color: #E2EBFA;\n",
              "      box-shadow: 0px 1px 2px rgba(60, 64, 67, 0.3), 0px 1px 3px 1px rgba(60, 64, 67, 0.15);\n",
              "      fill: #174EA6;\n",
              "    }\n",
              "\n",
              "    [theme=dark] .colab-df-convert {\n",
              "      background-color: #3B4455;\n",
              "      fill: #D2E3FC;\n",
              "    }\n",
              "\n",
              "    [theme=dark] .colab-df-convert:hover {\n",
              "      background-color: #434B5C;\n",
              "      box-shadow: 0px 1px 3px 1px rgba(0, 0, 0, 0.15);\n",
              "      filter: drop-shadow(0px 1px 2px rgba(0, 0, 0, 0.3));\n",
              "      fill: #FFFFFF;\n",
              "    }\n",
              "  </style>\n",
              "\n",
              "      <script>\n",
              "        const buttonEl =\n",
              "          document.querySelector('#df-5bbbeac2-5efa-4210-b0f2-72f278181e21 button.colab-df-convert');\n",
              "        buttonEl.style.display =\n",
              "          google.colab.kernel.accessAllowed ? 'block' : 'none';\n",
              "\n",
              "        async function convertToInteractive(key) {\n",
              "          const element = document.querySelector('#df-5bbbeac2-5efa-4210-b0f2-72f278181e21');\n",
              "          const dataTable =\n",
              "            await google.colab.kernel.invokeFunction('convertToInteractive',\n",
              "                                                     [key], {});\n",
              "          if (!dataTable) return;\n",
              "\n",
              "          const docLinkHtml = 'Like what you see? Visit the ' +\n",
              "            '<a target=\"_blank\" href=https://colab.research.google.com/notebooks/data_table.ipynb>data table notebook</a>'\n",
              "            + ' to learn more about interactive tables.';\n",
              "          element.innerHTML = '';\n",
              "          dataTable['output_type'] = 'display_data';\n",
              "          await google.colab.output.renderOutput(dataTable, element);\n",
              "          const docLink = document.createElement('div');\n",
              "          docLink.innerHTML = docLinkHtml;\n",
              "          element.appendChild(docLink);\n",
              "        }\n",
              "      </script>\n",
              "    </div>\n",
              "  </div>\n",
              "  "
            ]
          },
          "metadata": {},
          "execution_count": 18
        }
      ]
    },
    {
      "cell_type": "code",
      "source": [
        "X.info()"
      ],
      "metadata": {
        "colab": {
          "base_uri": "https://localhost:8080/"
        },
        "id": "cmwMQPUtGJer",
        "outputId": "2e28b2a7-aa06-43f6-8a88-b06c49087391"
      },
      "execution_count": 19,
      "outputs": [
        {
          "output_type": "stream",
          "name": "stdout",
          "text": [
            "<class 'pandas.core.frame.DataFrame'>\n",
            "RangeIndex: 158 entries, 0 to 157\n",
            "Data columns (total 24 columns):\n",
            " #   Column                   Non-Null Count  Dtype  \n",
            "---  ------                   --------------  -----  \n",
            " 0   Age                      158 non-null    int64  \n",
            " 1   Blood Pressure           158 non-null    int64  \n",
            " 2   Specific Gravity         158 non-null    float64\n",
            " 3   Albumin                  158 non-null    int64  \n",
            " 4   Sugar                    158 non-null    int64  \n",
            " 5   Red Blood Cells          158 non-null    object \n",
            " 6   Pus Cell                 158 non-null    object \n",
            " 7   Pus Cell clumps          158 non-null    object \n",
            " 8   Bacteria                 158 non-null    object \n",
            " 9   Glucose                  158 non-null    int64  \n",
            " 10  Blood Urea               158 non-null    int64  \n",
            " 11  Serum Creatinine         158 non-null    float64\n",
            " 12  Sodium                   158 non-null    int64  \n",
            " 13  Potassium                158 non-null    float64\n",
            " 14  Hemoglobin               158 non-null    float64\n",
            " 15  Packed Cell Volume       158 non-null    int64  \n",
            " 16  White Blood Cell Count   158 non-null    int64  \n",
            " 17  Red Blood Cell Count     158 non-null    float64\n",
            " 18  Hypertension             158 non-null    object \n",
            " 19  Diabetes Mellitus        158 non-null    object \n",
            " 20  Coronary Artery Disease  158 non-null    object \n",
            " 21  Appetite                 158 non-null    object \n",
            " 22  Pedal Edema              158 non-null    object \n",
            " 23  Anemia                   158 non-null    object \n",
            "dtypes: float64(5), int64(9), object(10)\n",
            "memory usage: 29.8+ KB\n"
          ]
        }
      ]
    },
    {
      "cell_type": "code",
      "source": [
        "X.columns"
      ],
      "metadata": {
        "colab": {
          "base_uri": "https://localhost:8080/"
        },
        "id": "KG0-pM9RGOzr",
        "outputId": "143e7163-5dcf-4d74-a613-b2fe3a24c9db"
      },
      "execution_count": 20,
      "outputs": [
        {
          "output_type": "execute_result",
          "data": {
            "text/plain": [
              "Index(['Age', 'Blood Pressure', 'Specific Gravity', 'Albumin', 'Sugar',\n",
              "       'Red Blood Cells', 'Pus Cell', 'Pus Cell clumps', 'Bacteria', 'Glucose',\n",
              "       'Blood Urea', 'Serum Creatinine', 'Sodium', 'Potassium', 'Hemoglobin',\n",
              "       'Packed Cell Volume', 'White Blood Cell Count', 'Red Blood Cell Count',\n",
              "       'Hypertension', 'Diabetes Mellitus', 'Coronary Artery Disease',\n",
              "       'Appetite', 'Pedal Edema', 'Anemia'],\n",
              "      dtype='object')"
            ]
          },
          "metadata": {},
          "execution_count": 20
        }
      ]
    },
    {
      "cell_type": "code",
      "source": [
        "X = X[[\"Age\", \"Blood Pressure\", \"Specific Gravity\", \"Albumin\", \"Sugar\", \"Glucose\", \"Blood Urea\", 'Serum Creatinine', 'Sodium', 'Potassium', 'Hemoglobin',\n",
        "       'Packed Cell Volume', 'White Blood Cell Count', 'Red Blood Cell Count']]"
      ],
      "metadata": {
        "id": "pmldnR26GcoI"
      },
      "execution_count": 21,
      "outputs": []
    },
    {
      "cell_type": "code",
      "source": [
        "X.head()"
      ],
      "metadata": {
        "colab": {
          "base_uri": "https://localhost:8080/",
          "height": 285
        },
        "id": "4sOsDsO6Gllg",
        "outputId": "67922eee-755e-4391-d53b-1a6d5ffb45ff"
      },
      "execution_count": 22,
      "outputs": [
        {
          "output_type": "execute_result",
          "data": {
            "text/plain": [
              "   Age  Blood Pressure  Specific Gravity  Albumin  Sugar  Glucose  Blood Urea  \\\n",
              "0   48              70             1.005        4      0      117          56   \n",
              "1   53              90             1.020        2      0       70         107   \n",
              "2   63              70             1.010        3      0      380          60   \n",
              "3   68              80             1.010        3      2      157          90   \n",
              "4   61              80             1.015        2      0      173         148   \n",
              "\n",
              "   Serum Creatinine  Sodium  Potassium  Hemoglobin  Packed Cell Volume  \\\n",
              "0               3.8     111        2.5        11.2                  32   \n",
              "1               7.2     114        3.7         9.5                  29   \n",
              "2               2.7     131        4.2        10.8                  32   \n",
              "3               4.1     130        6.4         5.6                  16   \n",
              "4               3.9     135        5.2         7.7                  24   \n",
              "\n",
              "   White Blood Cell Count  Red Blood Cell Count  \n",
              "0                    6700                   3.9  \n",
              "1                   12100                   3.7  \n",
              "2                    4500                   3.8  \n",
              "3                   11000                   2.6  \n",
              "4                    9200                   3.2  "
            ],
            "text/html": [
              "\n",
              "  <div id=\"df-f97e7f48-1fa9-412f-9478-4b00cb495025\">\n",
              "    <div class=\"colab-df-container\">\n",
              "      <div>\n",
              "<style scoped>\n",
              "    .dataframe tbody tr th:only-of-type {\n",
              "        vertical-align: middle;\n",
              "    }\n",
              "\n",
              "    .dataframe tbody tr th {\n",
              "        vertical-align: top;\n",
              "    }\n",
              "\n",
              "    .dataframe thead th {\n",
              "        text-align: right;\n",
              "    }\n",
              "</style>\n",
              "<table border=\"1\" class=\"dataframe\">\n",
              "  <thead>\n",
              "    <tr style=\"text-align: right;\">\n",
              "      <th></th>\n",
              "      <th>Age</th>\n",
              "      <th>Blood Pressure</th>\n",
              "      <th>Specific Gravity</th>\n",
              "      <th>Albumin</th>\n",
              "      <th>Sugar</th>\n",
              "      <th>Glucose</th>\n",
              "      <th>Blood Urea</th>\n",
              "      <th>Serum Creatinine</th>\n",
              "      <th>Sodium</th>\n",
              "      <th>Potassium</th>\n",
              "      <th>Hemoglobin</th>\n",
              "      <th>Packed Cell Volume</th>\n",
              "      <th>White Blood Cell Count</th>\n",
              "      <th>Red Blood Cell Count</th>\n",
              "    </tr>\n",
              "  </thead>\n",
              "  <tbody>\n",
              "    <tr>\n",
              "      <th>0</th>\n",
              "      <td>48</td>\n",
              "      <td>70</td>\n",
              "      <td>1.005</td>\n",
              "      <td>4</td>\n",
              "      <td>0</td>\n",
              "      <td>117</td>\n",
              "      <td>56</td>\n",
              "      <td>3.8</td>\n",
              "      <td>111</td>\n",
              "      <td>2.5</td>\n",
              "      <td>11.2</td>\n",
              "      <td>32</td>\n",
              "      <td>6700</td>\n",
              "      <td>3.9</td>\n",
              "    </tr>\n",
              "    <tr>\n",
              "      <th>1</th>\n",
              "      <td>53</td>\n",
              "      <td>90</td>\n",
              "      <td>1.020</td>\n",
              "      <td>2</td>\n",
              "      <td>0</td>\n",
              "      <td>70</td>\n",
              "      <td>107</td>\n",
              "      <td>7.2</td>\n",
              "      <td>114</td>\n",
              "      <td>3.7</td>\n",
              "      <td>9.5</td>\n",
              "      <td>29</td>\n",
              "      <td>12100</td>\n",
              "      <td>3.7</td>\n",
              "    </tr>\n",
              "    <tr>\n",
              "      <th>2</th>\n",
              "      <td>63</td>\n",
              "      <td>70</td>\n",
              "      <td>1.010</td>\n",
              "      <td>3</td>\n",
              "      <td>0</td>\n",
              "      <td>380</td>\n",
              "      <td>60</td>\n",
              "      <td>2.7</td>\n",
              "      <td>131</td>\n",
              "      <td>4.2</td>\n",
              "      <td>10.8</td>\n",
              "      <td>32</td>\n",
              "      <td>4500</td>\n",
              "      <td>3.8</td>\n",
              "    </tr>\n",
              "    <tr>\n",
              "      <th>3</th>\n",
              "      <td>68</td>\n",
              "      <td>80</td>\n",
              "      <td>1.010</td>\n",
              "      <td>3</td>\n",
              "      <td>2</td>\n",
              "      <td>157</td>\n",
              "      <td>90</td>\n",
              "      <td>4.1</td>\n",
              "      <td>130</td>\n",
              "      <td>6.4</td>\n",
              "      <td>5.6</td>\n",
              "      <td>16</td>\n",
              "      <td>11000</td>\n",
              "      <td>2.6</td>\n",
              "    </tr>\n",
              "    <tr>\n",
              "      <th>4</th>\n",
              "      <td>61</td>\n",
              "      <td>80</td>\n",
              "      <td>1.015</td>\n",
              "      <td>2</td>\n",
              "      <td>0</td>\n",
              "      <td>173</td>\n",
              "      <td>148</td>\n",
              "      <td>3.9</td>\n",
              "      <td>135</td>\n",
              "      <td>5.2</td>\n",
              "      <td>7.7</td>\n",
              "      <td>24</td>\n",
              "      <td>9200</td>\n",
              "      <td>3.2</td>\n",
              "    </tr>\n",
              "  </tbody>\n",
              "</table>\n",
              "</div>\n",
              "      <button class=\"colab-df-convert\" onclick=\"convertToInteractive('df-f97e7f48-1fa9-412f-9478-4b00cb495025')\"\n",
              "              title=\"Convert this dataframe to an interactive table.\"\n",
              "              style=\"display:none;\">\n",
              "        \n",
              "  <svg xmlns=\"http://www.w3.org/2000/svg\" height=\"24px\"viewBox=\"0 0 24 24\"\n",
              "       width=\"24px\">\n",
              "    <path d=\"M0 0h24v24H0V0z\" fill=\"none\"/>\n",
              "    <path d=\"M18.56 5.44l.94 2.06.94-2.06 2.06-.94-2.06-.94-.94-2.06-.94 2.06-2.06.94zm-11 1L8.5 8.5l.94-2.06 2.06-.94-2.06-.94L8.5 2.5l-.94 2.06-2.06.94zm10 10l.94 2.06.94-2.06 2.06-.94-2.06-.94-.94-2.06-.94 2.06-2.06.94z\"/><path d=\"M17.41 7.96l-1.37-1.37c-.4-.4-.92-.59-1.43-.59-.52 0-1.04.2-1.43.59L10.3 9.45l-7.72 7.72c-.78.78-.78 2.05 0 2.83L4 21.41c.39.39.9.59 1.41.59.51 0 1.02-.2 1.41-.59l7.78-7.78 2.81-2.81c.8-.78.8-2.07 0-2.86zM5.41 20L4 18.59l7.72-7.72 1.47 1.35L5.41 20z\"/>\n",
              "  </svg>\n",
              "      </button>\n",
              "      \n",
              "  <style>\n",
              "    .colab-df-container {\n",
              "      display:flex;\n",
              "      flex-wrap:wrap;\n",
              "      gap: 12px;\n",
              "    }\n",
              "\n",
              "    .colab-df-convert {\n",
              "      background-color: #E8F0FE;\n",
              "      border: none;\n",
              "      border-radius: 50%;\n",
              "      cursor: pointer;\n",
              "      display: none;\n",
              "      fill: #1967D2;\n",
              "      height: 32px;\n",
              "      padding: 0 0 0 0;\n",
              "      width: 32px;\n",
              "    }\n",
              "\n",
              "    .colab-df-convert:hover {\n",
              "      background-color: #E2EBFA;\n",
              "      box-shadow: 0px 1px 2px rgba(60, 64, 67, 0.3), 0px 1px 3px 1px rgba(60, 64, 67, 0.15);\n",
              "      fill: #174EA6;\n",
              "    }\n",
              "\n",
              "    [theme=dark] .colab-df-convert {\n",
              "      background-color: #3B4455;\n",
              "      fill: #D2E3FC;\n",
              "    }\n",
              "\n",
              "    [theme=dark] .colab-df-convert:hover {\n",
              "      background-color: #434B5C;\n",
              "      box-shadow: 0px 1px 3px 1px rgba(0, 0, 0, 0.15);\n",
              "      filter: drop-shadow(0px 1px 2px rgba(0, 0, 0, 0.3));\n",
              "      fill: #FFFFFF;\n",
              "    }\n",
              "  </style>\n",
              "\n",
              "      <script>\n",
              "        const buttonEl =\n",
              "          document.querySelector('#df-f97e7f48-1fa9-412f-9478-4b00cb495025 button.colab-df-convert');\n",
              "        buttonEl.style.display =\n",
              "          google.colab.kernel.accessAllowed ? 'block' : 'none';\n",
              "\n",
              "        async function convertToInteractive(key) {\n",
              "          const element = document.querySelector('#df-f97e7f48-1fa9-412f-9478-4b00cb495025');\n",
              "          const dataTable =\n",
              "            await google.colab.kernel.invokeFunction('convertToInteractive',\n",
              "                                                     [key], {});\n",
              "          if (!dataTable) return;\n",
              "\n",
              "          const docLinkHtml = 'Like what you see? Visit the ' +\n",
              "            '<a target=\"_blank\" href=https://colab.research.google.com/notebooks/data_table.ipynb>data table notebook</a>'\n",
              "            + ' to learn more about interactive tables.';\n",
              "          element.innerHTML = '';\n",
              "          dataTable['output_type'] = 'display_data';\n",
              "          await google.colab.output.renderOutput(dataTable, element);\n",
              "          const docLink = document.createElement('div');\n",
              "          docLink.innerHTML = docLinkHtml;\n",
              "          element.appendChild(docLink);\n",
              "        }\n",
              "      </script>\n",
              "    </div>\n",
              "  </div>\n",
              "  "
            ]
          },
          "metadata": {},
          "execution_count": 22
        }
      ]
    },
    {
      "cell_type": "markdown",
      "source": [
        "### Split `X` and `y` into training and testing sets."
      ],
      "metadata": {
        "id": "deW6X7u4Gv88"
      }
    },
    {
      "cell_type": "code",
      "source": [
        "X_train, X_test, y_train, y_test = train_test_split(X, y, test_size = 0.25, random_state=0)"
      ],
      "metadata": {
        "id": "Reajri13G3FH"
      },
      "execution_count": 23,
      "outputs": []
    },
    {
      "cell_type": "markdown",
      "source": [
        "Check what the training and testing sets look like."
      ],
      "metadata": {
        "id": "pV2-GFpgG_iP"
      }
    },
    {
      "cell_type": "code",
      "source": [
        "X_train.head()"
      ],
      "metadata": {
        "colab": {
          "base_uri": "https://localhost:8080/",
          "height": 285
        },
        "id": "Hwf3FCr_HEmh",
        "outputId": "7814a4a7-2f75-44b2-893b-5294c77d37e1"
      },
      "execution_count": 24,
      "outputs": [
        {
          "output_type": "execute_result",
          "data": {
            "text/plain": [
              "     Age  Blood Pressure  Specific Gravity  Albumin  Sugar  Glucose  \\\n",
              "27    21              90             1.010        4      0      107   \n",
              "111   43              60             1.025        0      0      108   \n",
              "110   22              60             1.025        0      0       97   \n",
              "85    43              80             1.025        0      0       81   \n",
              "18    52              90             1.015        4      3      224   \n",
              "\n",
              "     Blood Urea  Serum Creatinine  Sodium  Potassium  Hemoglobin  \\\n",
              "27           40               1.7     125        3.5         8.3   \n",
              "111          25               1.0     144        5.0        17.8   \n",
              "110          18               1.2     138        4.3        13.5   \n",
              "85           46               0.6     135        4.9        13.9   \n",
              "18          166               5.6     133       47.0         8.1   \n",
              "\n",
              "     Packed Cell Volume  White Blood Cell Count  Red Blood Cell Count  \n",
              "27                   23                   12400                   3.9  \n",
              "111                  43                    7200                   5.5  \n",
              "110                  42                    7900                   6.4  \n",
              "85                   48                    6900                   4.9  \n",
              "18                   23                    5000                   2.9  "
            ],
            "text/html": [
              "\n",
              "  <div id=\"df-daa071f0-f034-40ff-b6e3-97a7bd7054e1\">\n",
              "    <div class=\"colab-df-container\">\n",
              "      <div>\n",
              "<style scoped>\n",
              "    .dataframe tbody tr th:only-of-type {\n",
              "        vertical-align: middle;\n",
              "    }\n",
              "\n",
              "    .dataframe tbody tr th {\n",
              "        vertical-align: top;\n",
              "    }\n",
              "\n",
              "    .dataframe thead th {\n",
              "        text-align: right;\n",
              "    }\n",
              "</style>\n",
              "<table border=\"1\" class=\"dataframe\">\n",
              "  <thead>\n",
              "    <tr style=\"text-align: right;\">\n",
              "      <th></th>\n",
              "      <th>Age</th>\n",
              "      <th>Blood Pressure</th>\n",
              "      <th>Specific Gravity</th>\n",
              "      <th>Albumin</th>\n",
              "      <th>Sugar</th>\n",
              "      <th>Glucose</th>\n",
              "      <th>Blood Urea</th>\n",
              "      <th>Serum Creatinine</th>\n",
              "      <th>Sodium</th>\n",
              "      <th>Potassium</th>\n",
              "      <th>Hemoglobin</th>\n",
              "      <th>Packed Cell Volume</th>\n",
              "      <th>White Blood Cell Count</th>\n",
              "      <th>Red Blood Cell Count</th>\n",
              "    </tr>\n",
              "  </thead>\n",
              "  <tbody>\n",
              "    <tr>\n",
              "      <th>27</th>\n",
              "      <td>21</td>\n",
              "      <td>90</td>\n",
              "      <td>1.010</td>\n",
              "      <td>4</td>\n",
              "      <td>0</td>\n",
              "      <td>107</td>\n",
              "      <td>40</td>\n",
              "      <td>1.7</td>\n",
              "      <td>125</td>\n",
              "      <td>3.5</td>\n",
              "      <td>8.3</td>\n",
              "      <td>23</td>\n",
              "      <td>12400</td>\n",
              "      <td>3.9</td>\n",
              "    </tr>\n",
              "    <tr>\n",
              "      <th>111</th>\n",
              "      <td>43</td>\n",
              "      <td>60</td>\n",
              "      <td>1.025</td>\n",
              "      <td>0</td>\n",
              "      <td>0</td>\n",
              "      <td>108</td>\n",
              "      <td>25</td>\n",
              "      <td>1.0</td>\n",
              "      <td>144</td>\n",
              "      <td>5.0</td>\n",
              "      <td>17.8</td>\n",
              "      <td>43</td>\n",
              "      <td>7200</td>\n",
              "      <td>5.5</td>\n",
              "    </tr>\n",
              "    <tr>\n",
              "      <th>110</th>\n",
              "      <td>22</td>\n",
              "      <td>60</td>\n",
              "      <td>1.025</td>\n",
              "      <td>0</td>\n",
              "      <td>0</td>\n",
              "      <td>97</td>\n",
              "      <td>18</td>\n",
              "      <td>1.2</td>\n",
              "      <td>138</td>\n",
              "      <td>4.3</td>\n",
              "      <td>13.5</td>\n",
              "      <td>42</td>\n",
              "      <td>7900</td>\n",
              "      <td>6.4</td>\n",
              "    </tr>\n",
              "    <tr>\n",
              "      <th>85</th>\n",
              "      <td>43</td>\n",
              "      <td>80</td>\n",
              "      <td>1.025</td>\n",
              "      <td>0</td>\n",
              "      <td>0</td>\n",
              "      <td>81</td>\n",
              "      <td>46</td>\n",
              "      <td>0.6</td>\n",
              "      <td>135</td>\n",
              "      <td>4.9</td>\n",
              "      <td>13.9</td>\n",
              "      <td>48</td>\n",
              "      <td>6900</td>\n",
              "      <td>4.9</td>\n",
              "    </tr>\n",
              "    <tr>\n",
              "      <th>18</th>\n",
              "      <td>52</td>\n",
              "      <td>90</td>\n",
              "      <td>1.015</td>\n",
              "      <td>4</td>\n",
              "      <td>3</td>\n",
              "      <td>224</td>\n",
              "      <td>166</td>\n",
              "      <td>5.6</td>\n",
              "      <td>133</td>\n",
              "      <td>47.0</td>\n",
              "      <td>8.1</td>\n",
              "      <td>23</td>\n",
              "      <td>5000</td>\n",
              "      <td>2.9</td>\n",
              "    </tr>\n",
              "  </tbody>\n",
              "</table>\n",
              "</div>\n",
              "      <button class=\"colab-df-convert\" onclick=\"convertToInteractive('df-daa071f0-f034-40ff-b6e3-97a7bd7054e1')\"\n",
              "              title=\"Convert this dataframe to an interactive table.\"\n",
              "              style=\"display:none;\">\n",
              "        \n",
              "  <svg xmlns=\"http://www.w3.org/2000/svg\" height=\"24px\"viewBox=\"0 0 24 24\"\n",
              "       width=\"24px\">\n",
              "    <path d=\"M0 0h24v24H0V0z\" fill=\"none\"/>\n",
              "    <path d=\"M18.56 5.44l.94 2.06.94-2.06 2.06-.94-2.06-.94-.94-2.06-.94 2.06-2.06.94zm-11 1L8.5 8.5l.94-2.06 2.06-.94-2.06-.94L8.5 2.5l-.94 2.06-2.06.94zm10 10l.94 2.06.94-2.06 2.06-.94-2.06-.94-.94-2.06-.94 2.06-2.06.94z\"/><path d=\"M17.41 7.96l-1.37-1.37c-.4-.4-.92-.59-1.43-.59-.52 0-1.04.2-1.43.59L10.3 9.45l-7.72 7.72c-.78.78-.78 2.05 0 2.83L4 21.41c.39.39.9.59 1.41.59.51 0 1.02-.2 1.41-.59l7.78-7.78 2.81-2.81c.8-.78.8-2.07 0-2.86zM5.41 20L4 18.59l7.72-7.72 1.47 1.35L5.41 20z\"/>\n",
              "  </svg>\n",
              "      </button>\n",
              "      \n",
              "  <style>\n",
              "    .colab-df-container {\n",
              "      display:flex;\n",
              "      flex-wrap:wrap;\n",
              "      gap: 12px;\n",
              "    }\n",
              "\n",
              "    .colab-df-convert {\n",
              "      background-color: #E8F0FE;\n",
              "      border: none;\n",
              "      border-radius: 50%;\n",
              "      cursor: pointer;\n",
              "      display: none;\n",
              "      fill: #1967D2;\n",
              "      height: 32px;\n",
              "      padding: 0 0 0 0;\n",
              "      width: 32px;\n",
              "    }\n",
              "\n",
              "    .colab-df-convert:hover {\n",
              "      background-color: #E2EBFA;\n",
              "      box-shadow: 0px 1px 2px rgba(60, 64, 67, 0.3), 0px 1px 3px 1px rgba(60, 64, 67, 0.15);\n",
              "      fill: #174EA6;\n",
              "    }\n",
              "\n",
              "    [theme=dark] .colab-df-convert {\n",
              "      background-color: #3B4455;\n",
              "      fill: #D2E3FC;\n",
              "    }\n",
              "\n",
              "    [theme=dark] .colab-df-convert:hover {\n",
              "      background-color: #434B5C;\n",
              "      box-shadow: 0px 1px 3px 1px rgba(0, 0, 0, 0.15);\n",
              "      filter: drop-shadow(0px 1px 2px rgba(0, 0, 0, 0.3));\n",
              "      fill: #FFFFFF;\n",
              "    }\n",
              "  </style>\n",
              "\n",
              "      <script>\n",
              "        const buttonEl =\n",
              "          document.querySelector('#df-daa071f0-f034-40ff-b6e3-97a7bd7054e1 button.colab-df-convert');\n",
              "        buttonEl.style.display =\n",
              "          google.colab.kernel.accessAllowed ? 'block' : 'none';\n",
              "\n",
              "        async function convertToInteractive(key) {\n",
              "          const element = document.querySelector('#df-daa071f0-f034-40ff-b6e3-97a7bd7054e1');\n",
              "          const dataTable =\n",
              "            await google.colab.kernel.invokeFunction('convertToInteractive',\n",
              "                                                     [key], {});\n",
              "          if (!dataTable) return;\n",
              "\n",
              "          const docLinkHtml = 'Like what you see? Visit the ' +\n",
              "            '<a target=\"_blank\" href=https://colab.research.google.com/notebooks/data_table.ipynb>data table notebook</a>'\n",
              "            + ' to learn more about interactive tables.';\n",
              "          element.innerHTML = '';\n",
              "          dataTable['output_type'] = 'display_data';\n",
              "          await google.colab.output.renderOutput(dataTable, element);\n",
              "          const docLink = document.createElement('div');\n",
              "          docLink.innerHTML = docLinkHtml;\n",
              "          element.appendChild(docLink);\n",
              "        }\n",
              "      </script>\n",
              "    </div>\n",
              "  </div>\n",
              "  "
            ]
          },
          "metadata": {},
          "execution_count": 24
        }
      ]
    },
    {
      "cell_type": "code",
      "source": [
        "X_test.head()"
      ],
      "metadata": {
        "colab": {
          "base_uri": "https://localhost:8080/",
          "height": 285
        },
        "id": "vMR189PhHMGX",
        "outputId": "e57e89ac-0809-48ac-edff-48f9c57f6628"
      },
      "execution_count": 25,
      "outputs": [
        {
          "output_type": "execute_result",
          "data": {
            "text/plain": [
              "     Age  Blood Pressure  Specific Gravity  Albumin  Sugar  Glucose  \\\n",
              "7     73              70             1.005        0      0       70   \n",
              "44    23              80             1.025        0      0       70   \n",
              "113   29              80             1.020        0      0       83   \n",
              "120   47              60             1.020        0      0      117   \n",
              "63    30              80             1.025        0      0       96   \n",
              "\n",
              "     Blood Urea  Serum Creatinine  Sodium  Potassium  Hemoglobin  \\\n",
              "7            32               0.9     125        4.0        10.0   \n",
              "44           36               1.0     150        4.6        17.0   \n",
              "113          49               0.9     139        3.3        17.5   \n",
              "120          22               1.2     138        3.5        13.0   \n",
              "63           25               0.5     144        4.8        13.8   \n",
              "\n",
              "     Packed Cell Volume  White Blood Cell Count  Red Blood Cell Count  \n",
              "7                    29                   18900                   3.5  \n",
              "44                   52                    9800                   5.0  \n",
              "113                  40                    9900                   4.7  \n",
              "120                  45                    5200                   5.6  \n",
              "63                   42                    9000                   4.5  "
            ],
            "text/html": [
              "\n",
              "  <div id=\"df-decfdf0a-ba82-42a9-8be5-27ade1454879\">\n",
              "    <div class=\"colab-df-container\">\n",
              "      <div>\n",
              "<style scoped>\n",
              "    .dataframe tbody tr th:only-of-type {\n",
              "        vertical-align: middle;\n",
              "    }\n",
              "\n",
              "    .dataframe tbody tr th {\n",
              "        vertical-align: top;\n",
              "    }\n",
              "\n",
              "    .dataframe thead th {\n",
              "        text-align: right;\n",
              "    }\n",
              "</style>\n",
              "<table border=\"1\" class=\"dataframe\">\n",
              "  <thead>\n",
              "    <tr style=\"text-align: right;\">\n",
              "      <th></th>\n",
              "      <th>Age</th>\n",
              "      <th>Blood Pressure</th>\n",
              "      <th>Specific Gravity</th>\n",
              "      <th>Albumin</th>\n",
              "      <th>Sugar</th>\n",
              "      <th>Glucose</th>\n",
              "      <th>Blood Urea</th>\n",
              "      <th>Serum Creatinine</th>\n",
              "      <th>Sodium</th>\n",
              "      <th>Potassium</th>\n",
              "      <th>Hemoglobin</th>\n",
              "      <th>Packed Cell Volume</th>\n",
              "      <th>White Blood Cell Count</th>\n",
              "      <th>Red Blood Cell Count</th>\n",
              "    </tr>\n",
              "  </thead>\n",
              "  <tbody>\n",
              "    <tr>\n",
              "      <th>7</th>\n",
              "      <td>73</td>\n",
              "      <td>70</td>\n",
              "      <td>1.005</td>\n",
              "      <td>0</td>\n",
              "      <td>0</td>\n",
              "      <td>70</td>\n",
              "      <td>32</td>\n",
              "      <td>0.9</td>\n",
              "      <td>125</td>\n",
              "      <td>4.0</td>\n",
              "      <td>10.0</td>\n",
              "      <td>29</td>\n",
              "      <td>18900</td>\n",
              "      <td>3.5</td>\n",
              "    </tr>\n",
              "    <tr>\n",
              "      <th>44</th>\n",
              "      <td>23</td>\n",
              "      <td>80</td>\n",
              "      <td>1.025</td>\n",
              "      <td>0</td>\n",
              "      <td>0</td>\n",
              "      <td>70</td>\n",
              "      <td>36</td>\n",
              "      <td>1.0</td>\n",
              "      <td>150</td>\n",
              "      <td>4.6</td>\n",
              "      <td>17.0</td>\n",
              "      <td>52</td>\n",
              "      <td>9800</td>\n",
              "      <td>5.0</td>\n",
              "    </tr>\n",
              "    <tr>\n",
              "      <th>113</th>\n",
              "      <td>29</td>\n",
              "      <td>80</td>\n",
              "      <td>1.020</td>\n",
              "      <td>0</td>\n",
              "      <td>0</td>\n",
              "      <td>83</td>\n",
              "      <td>49</td>\n",
              "      <td>0.9</td>\n",
              "      <td>139</td>\n",
              "      <td>3.3</td>\n",
              "      <td>17.5</td>\n",
              "      <td>40</td>\n",
              "      <td>9900</td>\n",
              "      <td>4.7</td>\n",
              "    </tr>\n",
              "    <tr>\n",
              "      <th>120</th>\n",
              "      <td>47</td>\n",
              "      <td>60</td>\n",
              "      <td>1.020</td>\n",
              "      <td>0</td>\n",
              "      <td>0</td>\n",
              "      <td>117</td>\n",
              "      <td>22</td>\n",
              "      <td>1.2</td>\n",
              "      <td>138</td>\n",
              "      <td>3.5</td>\n",
              "      <td>13.0</td>\n",
              "      <td>45</td>\n",
              "      <td>5200</td>\n",
              "      <td>5.6</td>\n",
              "    </tr>\n",
              "    <tr>\n",
              "      <th>63</th>\n",
              "      <td>30</td>\n",
              "      <td>80</td>\n",
              "      <td>1.025</td>\n",
              "      <td>0</td>\n",
              "      <td>0</td>\n",
              "      <td>96</td>\n",
              "      <td>25</td>\n",
              "      <td>0.5</td>\n",
              "      <td>144</td>\n",
              "      <td>4.8</td>\n",
              "      <td>13.8</td>\n",
              "      <td>42</td>\n",
              "      <td>9000</td>\n",
              "      <td>4.5</td>\n",
              "    </tr>\n",
              "  </tbody>\n",
              "</table>\n",
              "</div>\n",
              "      <button class=\"colab-df-convert\" onclick=\"convertToInteractive('df-decfdf0a-ba82-42a9-8be5-27ade1454879')\"\n",
              "              title=\"Convert this dataframe to an interactive table.\"\n",
              "              style=\"display:none;\">\n",
              "        \n",
              "  <svg xmlns=\"http://www.w3.org/2000/svg\" height=\"24px\"viewBox=\"0 0 24 24\"\n",
              "       width=\"24px\">\n",
              "    <path d=\"M0 0h24v24H0V0z\" fill=\"none\"/>\n",
              "    <path d=\"M18.56 5.44l.94 2.06.94-2.06 2.06-.94-2.06-.94-.94-2.06-.94 2.06-2.06.94zm-11 1L8.5 8.5l.94-2.06 2.06-.94-2.06-.94L8.5 2.5l-.94 2.06-2.06.94zm10 10l.94 2.06.94-2.06 2.06-.94-2.06-.94-.94-2.06-.94 2.06-2.06.94z\"/><path d=\"M17.41 7.96l-1.37-1.37c-.4-.4-.92-.59-1.43-.59-.52 0-1.04.2-1.43.59L10.3 9.45l-7.72 7.72c-.78.78-.78 2.05 0 2.83L4 21.41c.39.39.9.59 1.41.59.51 0 1.02-.2 1.41-.59l7.78-7.78 2.81-2.81c.8-.78.8-2.07 0-2.86zM5.41 20L4 18.59l7.72-7.72 1.47 1.35L5.41 20z\"/>\n",
              "  </svg>\n",
              "      </button>\n",
              "      \n",
              "  <style>\n",
              "    .colab-df-container {\n",
              "      display:flex;\n",
              "      flex-wrap:wrap;\n",
              "      gap: 12px;\n",
              "    }\n",
              "\n",
              "    .colab-df-convert {\n",
              "      background-color: #E8F0FE;\n",
              "      border: none;\n",
              "      border-radius: 50%;\n",
              "      cursor: pointer;\n",
              "      display: none;\n",
              "      fill: #1967D2;\n",
              "      height: 32px;\n",
              "      padding: 0 0 0 0;\n",
              "      width: 32px;\n",
              "    }\n",
              "\n",
              "    .colab-df-convert:hover {\n",
              "      background-color: #E2EBFA;\n",
              "      box-shadow: 0px 1px 2px rgba(60, 64, 67, 0.3), 0px 1px 3px 1px rgba(60, 64, 67, 0.15);\n",
              "      fill: #174EA6;\n",
              "    }\n",
              "\n",
              "    [theme=dark] .colab-df-convert {\n",
              "      background-color: #3B4455;\n",
              "      fill: #D2E3FC;\n",
              "    }\n",
              "\n",
              "    [theme=dark] .colab-df-convert:hover {\n",
              "      background-color: #434B5C;\n",
              "      box-shadow: 0px 1px 3px 1px rgba(0, 0, 0, 0.15);\n",
              "      filter: drop-shadow(0px 1px 2px rgba(0, 0, 0, 0.3));\n",
              "      fill: #FFFFFF;\n",
              "    }\n",
              "  </style>\n",
              "\n",
              "      <script>\n",
              "        const buttonEl =\n",
              "          document.querySelector('#df-decfdf0a-ba82-42a9-8be5-27ade1454879 button.colab-df-convert');\n",
              "        buttonEl.style.display =\n",
              "          google.colab.kernel.accessAllowed ? 'block' : 'none';\n",
              "\n",
              "        async function convertToInteractive(key) {\n",
              "          const element = document.querySelector('#df-decfdf0a-ba82-42a9-8be5-27ade1454879');\n",
              "          const dataTable =\n",
              "            await google.colab.kernel.invokeFunction('convertToInteractive',\n",
              "                                                     [key], {});\n",
              "          if (!dataTable) return;\n",
              "\n",
              "          const docLinkHtml = 'Like what you see? Visit the ' +\n",
              "            '<a target=\"_blank\" href=https://colab.research.google.com/notebooks/data_table.ipynb>data table notebook</a>'\n",
              "            + ' to learn more about interactive tables.';\n",
              "          element.innerHTML = '';\n",
              "          dataTable['output_type'] = 'display_data';\n",
              "          await google.colab.output.renderOutput(dataTable, element);\n",
              "          const docLink = document.createElement('div');\n",
              "          docLink.innerHTML = docLinkHtml;\n",
              "          element.appendChild(docLink);\n",
              "        }\n",
              "      </script>\n",
              "    </div>\n",
              "  </div>\n",
              "  "
            ]
          },
          "metadata": {},
          "execution_count": 25
        }
      ]
    },
    {
      "cell_type": "code",
      "source": [
        "y_train.head()"
      ],
      "metadata": {
        "colab": {
          "base_uri": "https://localhost:8080/"
        },
        "id": "i8X0YCSAHSEU",
        "outputId": "f6c58c6d-65e6-42aa-f783-db5df6e712c5"
      },
      "execution_count": 26,
      "outputs": [
        {
          "output_type": "execute_result",
          "data": {
            "text/plain": [
              "27     1\n",
              "111    0\n",
              "110    0\n",
              "85     0\n",
              "18     1\n",
              "Name: Class, dtype: int64"
            ]
          },
          "metadata": {},
          "execution_count": 26
        }
      ]
    },
    {
      "cell_type": "code",
      "source": [
        "y_test.head()"
      ],
      "metadata": {
        "colab": {
          "base_uri": "https://localhost:8080/"
        },
        "id": "Tugo0RCxHXDe",
        "outputId": "5c7a5127-662d-4636-bf01-fc36cfb0453c"
      },
      "execution_count": 27,
      "outputs": [
        {
          "output_type": "execute_result",
          "data": {
            "text/plain": [
              "7      1\n",
              "44     0\n",
              "113    0\n",
              "120    0\n",
              "63     0\n",
              "Name: Class, dtype: int64"
            ]
          },
          "metadata": {},
          "execution_count": 27
        }
      ]
    },
    {
      "cell_type": "markdown",
      "source": [
        "Check the shapes of the training and testing sets."
      ],
      "metadata": {
        "id": "NzOzNYYnHhhz"
      }
    },
    {
      "cell_type": "code",
      "source": [
        "X_train.shape, X_test.shape, y_train.shape, y_test.shape"
      ],
      "metadata": {
        "colab": {
          "base_uri": "https://localhost:8080/"
        },
        "id": "1rrHM2xTHmUQ",
        "outputId": "8c1b5d69-145a-484a-ddc3-cbff61356bd8"
      },
      "execution_count": 28,
      "outputs": [
        {
          "output_type": "execute_result",
          "data": {
            "text/plain": [
              "((118, 14), (40, 14), (118,), (40,))"
            ]
          },
          "metadata": {},
          "execution_count": 28
        }
      ]
    },
    {
      "cell_type": "markdown",
      "source": [
        "## Implement K-NN"
      ],
      "metadata": {
        "id": "oh4-M1bLH1zX"
      }
    },
    {
      "cell_type": "markdown",
      "source": [
        "### Create a `KNeighborsClassifier` object."
      ],
      "metadata": {
        "id": "JKUc0rd-H72b"
      }
    },
    {
      "cell_type": "code",
      "source": [
        "knn = KNeighborsClassifier(n_neighbors=3)"
      ],
      "metadata": {
        "id": "1stUqX7lIA1l"
      },
      "execution_count": 29,
      "outputs": []
    },
    {
      "cell_type": "markdown",
      "source": [
        "### Fit the `KNeighborsClassifier` to the training data."
      ],
      "metadata": {
        "id": "ROM9HurKILqZ"
      }
    },
    {
      "cell_type": "code",
      "source": [
        "knn.fit(X_train, y_train)"
      ],
      "metadata": {
        "colab": {
          "base_uri": "https://localhost:8080/"
        },
        "id": "tqH1HiQCIPWF",
        "outputId": "201f3382-8cb7-4e9d-85e7-ac51f21126c2"
      },
      "execution_count": 30,
      "outputs": [
        {
          "output_type": "execute_result",
          "data": {
            "text/plain": [
              "KNeighborsClassifier(n_neighbors=3)"
            ]
          },
          "metadata": {},
          "execution_count": 30
        }
      ]
    },
    {
      "cell_type": "markdown",
      "source": [
        "### Use the fitted `KNeighborsClassifier` to predict on the training set."
      ],
      "metadata": {
        "id": "1r8F9Bf4IX8n"
      }
    },
    {
      "cell_type": "code",
      "source": [
        "preds_train = knn.predict(X_train)"
      ],
      "metadata": {
        "id": "lcXCIJz4Idyq"
      },
      "execution_count": 31,
      "outputs": []
    },
    {
      "cell_type": "markdown",
      "source": [
        "Check data types of the predictions and the true values for training set."
      ],
      "metadata": {
        "id": "HqFZIBzcIllj"
      }
    },
    {
      "cell_type": "code",
      "source": [
        "type(preds_train), type(y_train)"
      ],
      "metadata": {
        "colab": {
          "base_uri": "https://localhost:8080/"
        },
        "id": "xjj9GCCLIqah",
        "outputId": "43778db6-03b8-456e-8446-bc04dbde6cb4"
      },
      "execution_count": 32,
      "outputs": [
        {
          "output_type": "execute_result",
          "data": {
            "text/plain": [
              "(numpy.ndarray, pandas.core.series.Series)"
            ]
          },
          "metadata": {},
          "execution_count": 32
        }
      ]
    },
    {
      "cell_type": "markdown",
      "source": [
        "How to compare predictions to true values for training set:"
      ],
      "metadata": {
        "id": "ATNgjLiWIzh_"
      }
    },
    {
      "cell_type": "code",
      "source": [
        "preds_train == y_train"
      ],
      "metadata": {
        "colab": {
          "base_uri": "https://localhost:8080/"
        },
        "id": "jANTV_EMI4vV",
        "outputId": "c35b9169-069d-411e-8ba5-40c6c5a1d179"
      },
      "execution_count": 33,
      "outputs": [
        {
          "output_type": "execute_result",
          "data": {
            "text/plain": [
              "27      True\n",
              "111     True\n",
              "110     True\n",
              "85      True\n",
              "18     False\n",
              "       ...  \n",
              "9       True\n",
              "103     True\n",
              "67      True\n",
              "117     True\n",
              "47      True\n",
              "Name: Class, Length: 118, dtype: bool"
            ]
          },
          "metadata": {},
          "execution_count": 33
        }
      ]
    },
    {
      "cell_type": "markdown",
      "source": [
        "[Approach A] Compute accuracy of predictions for training set:"
      ],
      "metadata": {
        "id": "bAgtzNqiJA-_"
      }
    },
    {
      "cell_type": "code",
      "source": [
        "sum(preds_train == y_train) / len(preds_train)"
      ],
      "metadata": {
        "colab": {
          "base_uri": "https://localhost:8080/"
        },
        "id": "rNA8l_amJFqv",
        "outputId": "ac56b140-0c2d-4d78-fbf9-8fa456a5c551"
      },
      "execution_count": 34,
      "outputs": [
        {
          "output_type": "execute_result",
          "data": {
            "text/plain": [
              "0.864406779661017"
            ]
          },
          "metadata": {},
          "execution_count": 34
        }
      ]
    },
    {
      "cell_type": "markdown",
      "source": [
        "[Approach B] Compute accuracy of predictions for training set:"
      ],
      "metadata": {
        "id": "Nmyymb5KJN3b"
      }
    },
    {
      "cell_type": "code",
      "source": [
        "np.count_nonzero(preds_train == y_train) / len(preds_train)"
      ],
      "metadata": {
        "colab": {
          "base_uri": "https://localhost:8080/"
        },
        "id": "eqleSH-KJX4P",
        "outputId": "9674290f-d286-4bd4-e6c4-ef00e6ba9365"
      },
      "execution_count": 35,
      "outputs": [
        {
          "output_type": "execute_result",
          "data": {
            "text/plain": [
              "0.864406779661017"
            ]
          },
          "metadata": {},
          "execution_count": 35
        }
      ]
    },
    {
      "cell_type": "markdown",
      "source": [
        "[Approach C] Compute accuracy of predictions for training set:"
      ],
      "metadata": {
        "id": "AMkoMSRCJhT1"
      }
    },
    {
      "cell_type": "code",
      "source": [
        "np.mean(preds_train == y_train)"
      ],
      "metadata": {
        "colab": {
          "base_uri": "https://localhost:8080/"
        },
        "id": "AiRkZ-aSJnOg",
        "outputId": "435e08ef-ba6e-48ea-901d-485da0cb54af"
      },
      "execution_count": 36,
      "outputs": [
        {
          "output_type": "execute_result",
          "data": {
            "text/plain": [
              "0.864406779661017"
            ]
          },
          "metadata": {},
          "execution_count": 36
        }
      ]
    },
    {
      "cell_type": "markdown",
      "source": [
        "[Approach D] Compute accuracy of predictions for training set:"
      ],
      "metadata": {
        "id": "XJHZHjCDLFvh"
      }
    },
    {
      "cell_type": "code",
      "source": [
        "knn.score(X_train, y_train)"
      ],
      "metadata": {
        "colab": {
          "base_uri": "https://localhost:8080/"
        },
        "id": "I8_ipfpTLLBl",
        "outputId": "f5b3b0b4-9275-4106-d12e-9e31f2bc420d"
      },
      "execution_count": 37,
      "outputs": [
        {
          "output_type": "execute_result",
          "data": {
            "text/plain": [
              "0.864406779661017"
            ]
          },
          "metadata": {},
          "execution_count": 37
        }
      ]
    },
    {
      "cell_type": "markdown",
      "source": [
        "### Use the fitted `KNeighborsClassifier` to predict on the testing set."
      ],
      "metadata": {
        "id": "sz5fwGIgLRiF"
      }
    },
    {
      "cell_type": "markdown",
      "source": [
        "Get the predictions on the testing set."
      ],
      "metadata": {
        "id": "i6F-4Ph0LZlv"
      }
    },
    {
      "cell_type": "code",
      "source": [
        "preds_test = knn.predict(X_test)"
      ],
      "metadata": {
        "id": "Z5KOD8A1Lep2"
      },
      "execution_count": 38,
      "outputs": []
    },
    {
      "cell_type": "markdown",
      "source": [
        "What do the predictions on the testing set look like:"
      ],
      "metadata": {
        "id": "KQwxQa0jLmDh"
      }
    },
    {
      "cell_type": "code",
      "source": [
        "preds_test"
      ],
      "metadata": {
        "colab": {
          "base_uri": "https://localhost:8080/"
        },
        "id": "XICrWRKzLqLU",
        "outputId": "f606eed5-c88f-4b32-d1c5-9ea5add6bdf0"
      },
      "execution_count": 39,
      "outputs": [
        {
          "output_type": "execute_result",
          "data": {
            "text/plain": [
              "array([1, 0, 0, 0, 0, 0, 0, 0, 0, 0, 0, 0, 1, 0, 0, 0, 0, 0, 0, 1, 0, 1,\n",
              "       0, 0, 0, 0, 0, 1, 0, 0, 0, 0, 0, 0, 0, 1, 0, 0, 0, 0])"
            ]
          },
          "metadata": {},
          "execution_count": 39
        }
      ]
    },
    {
      "cell_type": "markdown",
      "source": [
        "What do the true values in the testing set look like:"
      ],
      "metadata": {
        "id": "Prz6yRE3Lwf3"
      }
    },
    {
      "cell_type": "code",
      "source": [
        "y_test"
      ],
      "metadata": {
        "colab": {
          "base_uri": "https://localhost:8080/"
        },
        "id": "jgpWU1nxL01d",
        "outputId": "73de8126-3a5c-454c-a9dd-263db05b5c52"
      },
      "execution_count": 40,
      "outputs": [
        {
          "output_type": "execute_result",
          "data": {
            "text/plain": [
              "7      1\n",
              "44     0\n",
              "113    0\n",
              "120    0\n",
              "63     0\n",
              "122    0\n",
              "121    0\n",
              "139    0\n",
              "109    0\n",
              "92     0\n",
              "24     1\n",
              "141    0\n",
              "26     1\n",
              "60     0\n",
              "80     0\n",
              "97     0\n",
              "129    0\n",
              "98     0\n",
              "142    0\n",
              "56     0\n",
              "45     0\n",
              "33     1\n",
              "59     0\n",
              "8      1\n",
              "40     1\n",
              "37     1\n",
              "101    0\n",
              "19     1\n",
              "144    0\n",
              "108    0\n",
              "51     0\n",
              "54     0\n",
              "16     1\n",
              "130    0\n",
              "134    0\n",
              "22     1\n",
              "93     0\n",
              "66     0\n",
              "112    0\n",
              "94     0\n",
              "Name: Class, dtype: int64"
            ]
          },
          "metadata": {},
          "execution_count": 40
        }
      ]
    },
    {
      "cell_type": "markdown",
      "source": [
        "Compute accuracy of predictions for testing set: "
      ],
      "metadata": {
        "id": "-6OdSO2wL9MC"
      }
    },
    {
      "cell_type": "code",
      "source": [
        "knn.score(X_test, y_test)"
      ],
      "metadata": {
        "colab": {
          "base_uri": "https://localhost:8080/"
        },
        "id": "7xTl7STdMCeV",
        "outputId": "3a2616de-ab82-4283-8936-267845461c2d"
      },
      "execution_count": 41,
      "outputs": [
        {
          "output_type": "execute_result",
          "data": {
            "text/plain": [
              "0.85"
            ]
          },
          "metadata": {},
          "execution_count": 41
        }
      ]
    }
  ]
}